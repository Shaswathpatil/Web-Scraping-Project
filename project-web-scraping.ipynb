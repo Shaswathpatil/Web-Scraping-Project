{
 "cells": [
  {
   "cell_type": "markdown",
   "metadata": {},
   "source": [
    "# Web Scraping global cryptocurrencies using Beautiful Soup\n",
    "\n",
    "\n",
    "> Extracting and consolidating the details of top 100 cryptocurrenices based on their `Market Capitalization` from the website [CoinMarketCap](https://coinmarketcap.com)\n",
    "\n",
    "\n",
    "![](https://images.unsplash.com/photo-1615818733733-8b2f0e3c403a?ixlib=rb1.2.1&ixid=MnwxMjA3fDB8MHxwaG90by1wYWdlfHx8fGVufDB8fHx8&auto=format&fit=crop&w=750&q=80)\n",
    "\n",
    "_Image credits - [Bermix Studio](https://unsplash.com/@bermixstudio) from [Unsplash](https://unsplash.com)_"
   ]
  },
  {
   "cell_type": "markdown",
   "metadata": {},
   "source": [
    "---"
   ]
  },
  {
   "cell_type": "code",
   "execution_count": 1,
   "metadata": {},
   "outputs": [],
   "source": [
    "!pip install jovian --upgrade --quiet"
   ]
  },
  {
   "cell_type": "code",
   "execution_count": 2,
   "metadata": {},
   "outputs": [],
   "source": [
    "import jovian"
   ]
  },
  {
   "cell_type": "code",
   "execution_count": 3,
   "metadata": {
    "scrolled": false
   },
   "outputs": [
    {
     "data": {
      "application/javascript": [
       "window.require && require([\"base/js/namespace\"],function(Jupyter){Jupyter.notebook.save_checkpoint()})"
      ],
      "text/plain": [
       "<IPython.core.display.Javascript object>"
      ]
     },
     "metadata": {},
     "output_type": "display_data"
    },
    {
     "name": "stdout",
     "output_type": "stream",
     "text": [
      "[jovian] Attempting to save notebook..\u001b[0m\n",
      "[jovian] Updating notebook \"shaswathpatil7/project-web-scraping-v1\" on https://jovian.ai\u001b[0m\n",
      "[jovian] Uploading notebook..\u001b[0m\n",
      "[jovian] Uploading additional files...\u001b[0m\n"
     ]
    },
    {
     "name": "stderr",
     "output_type": "stream",
     "text": [
      "\u001b[31m[jovian] Error: Looks like the notebook is missing output cells, please save the notebook and try jovian.commit again.\u001b[0m\n"
     ]
    },
    {
     "name": "stdout",
     "output_type": "stream",
     "text": [
      "[jovian] Committed successfully! https://jovian.ai/shaswathpatil7/project-web-scraping-v1\u001b[0m\n"
     ]
    },
    {
     "data": {
      "text/plain": [
       "'https://jovian.ai/shaswathpatil7/project-web-scraping-v1'"
      ]
     },
     "execution_count": 3,
     "metadata": {},
     "output_type": "execute_result"
    }
   ],
   "source": [
    "# Execute this to save new versions of the notebook\n",
    "jovian.commit(project=\"project-web-scraping\")"
   ]
  },
  {
   "cell_type": "markdown",
   "metadata": {},
   "source": [
    "---"
   ]
  },
  {
   "cell_type": "markdown",
   "metadata": {},
   "source": [
    "# ***`What is Web Scrapping...?`***\n",
    "\n",
    "\n",
    "\n",
    "Web Scripting is an automatic method to obtain large amounts of data from websites. \n",
    "\n",
    "Most of this data is `unstructured data in an HTML format` which is then converted into `structured data in a spreadsheet or a database` so that it can be used in various applications.\n",
    "\n",
    "![](http://prowebscraping.com/wp-content/uploads/2015/09/web-scraping-process1.png)\n",
    "_Image credits - [http://prowebscraping.com/](http://prowebscraping.com/)_\n",
    "\n",
    "### Below are few sources where webscraping can be used\n",
    "\n",
    "![](https://www.octoparse.com/media/7529/web-scraping-introduction.jpg?width=1000&height=480)\n",
    "_Image credits - [https://www.octoparse.com/](https://www.octoparse.com/)_\n",
    "\n",
    "Find more details about Web Scrapping using Beautiful Soup in Python at [https://blog.jovian.ai](https://blog.jovian.ai/web-scraping-popular-movies-using-beautifulsoup-5bab0852fee4)"
   ]
  },
  {
   "cell_type": "markdown",
   "metadata": {},
   "source": [
    "---"
   ]
  },
  {
   "cell_type": "markdown",
   "metadata": {},
   "source": [
    "# ***`What is Cryptocurrency...?`***\n",
    "\n",
    "![](https://en.bitcoinwiki.org/upload/en/images/thumb/6/62/BiteMyCoin-Cryptocurrency.png/500px-BiteMyCoin-Cryptocurrency.png)\n",
    "_Image credits - [https://en.bitcoinwiki.org/wiki/Cryptocurrency](https://en.bitcoinwiki.org/wiki/Cryptocurrency)_\n",
    "\n",
    "\n",
    "A `cryptocurrency`, `crypto-currency`, or `crypto` is a digital asset designed to work as a medium of exchange wherein individual coin ownership records are stored in a ledger existing in a form of a computerized database using strong cryptography to secure transaction records, to control the creation of additional coins, and to verify the transfer of coin ownership. \n",
    "\n",
    "Cryptocurrencies use `decentralized control`, which means that they aren't controlled by one person or government. This is different to `centralized` electronic money and central banks. \n",
    "\n",
    "The control of each cryptocurrency works through a distributed ledger (a list of transactions shared by everyone), usually a `blockchain`, that serves as a public financial transaction database.\n",
    "\n",
    "`Bitcoin`, first released as open-source software in 2009, is often called the first decentralized cryptocurrency. Since then, over 4,000 cryptocurrencies (sometimes called `'altcoins'`, which is short for alternative coins) have been created.\n",
    "\n",
    "To learn more about the Cryptocurrencies visit [https://coinmarketcap.com/alexandria/](https://coinmarketcap.com/alexandria/)\n",
    "\n",
    "_Source_: [https://simple.wikipedia.org/wiki/Cryptocurrency](https://simple.wikipedia.org/wiki/Cryptocurrency),\n",
    "\n"
   ]
  },
  {
   "cell_type": "markdown",
   "metadata": {},
   "source": [
    "---"
   ]
  },
  {
   "cell_type": "markdown",
   "metadata": {},
   "source": [
    "## An overview of the website [CoinMarketCap](https://coinmarketcap.com/)\n",
    "![](data:image/jpeg;base64,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)\n",
    "\n",
    "**CoinMarketCap** is a web service that provides aggregated cryptocurrency market data. \n",
    "\n",
    "CoinMarketCap is a cryptocurrency industry utility that aggregates and reports recently-traded prices for hundreds of cryptocurrencies traded on hundreds of platforms around the world.\n",
    "\n",
    "The web page also ranks cryptocurrency trading platforms according to their reported trading volumes across all coins or tokens that they list.\n",
    "\n",
    "For each cryptocurrency and each platform that CoinMarketCap displays, it provides web links to the appropriate web explorers, white papers and platform homepages.\n",
    "\n",
    "CoinMarketCap was founded in 2013 by `Brandon Chez`, a computer programmer and early bitcoin adopter. It has been owned by `Binance` since April 2020.\n",
    "\n",
    "\n",
    "To know more about the CoinMarketCap visit [https://en.bitcoinwiki.org/wiki/Cryptocurrency](https://en.bitcoinwiki.org/wiki/Cryptocurrency)"
   ]
  },
  {
   "cell_type": "markdown",
   "metadata": {},
   "source": [
    "---"
   ]
  },
  {
   "cell_type": "markdown",
   "metadata": {},
   "source": [
    "`Market Capitalization` or `Market Cap` is known as the total market value of a cryptocurrency's circulating supply. It is analogous to the free-float capitalization in the stock market.\n",
    "\n",
    "For more details, visit [Market Cap](https://support.coinmarketcap.com/hc/en-us/articles/360043836811-Market-Capitalization-Cryptoasset-Aggregate-\n",
    ")"
   ]
  },
  {
   "cell_type": "markdown",
   "metadata": {},
   "source": [
    "---"
   ]
  },
  {
   "cell_type": "markdown",
   "metadata": {},
   "source": [
    "# Objectives of the project\n",
    "\n",
    "The  project contains 5 helper functions and 1 main function that is combination of 5 helper functions that can be used by the end user.\n",
    "\n",
    "> Important Note - The tags for Cryptocurrencies ranking from `1 to 10` are different from those ranking from `11 t0 100`.\n",
    "\n",
    "- Helper functions\n",
    "1. ***Part 1*** - Writing a function to extract `7` cyrptocurrency's details like **rank, symbol, image, name, price in USD, Market Capitilzation and URL** for the first 10 Cryptocurrencies.\n",
    "\n",
    "2. ***Part 2*** - Writing a function to extract only `4` cyrptocurrency's details like **symbol, name, price in USD and URL** from 11 to 100 Cryptocurrencies. \n",
    "\n",
    "3. ***Part 3*** - Inorder to keep consistency, writing a function that will extract the exactly `4` details that are common to both the sets i.e. `top 10` and `11 to 100`. The common details are **symbol, name, price in USD and URL**\n",
    "\n",
    "4. ***Part 4*** - Adding the rank number from 1 to 100, as the cryptocurrenies are written into the file based on their rank\n",
    "\n",
    "5. ***Part 5*** - Merging the all the deatils of 100 cryptocurrencies with the rank numbers\n",
    "\n",
    "- Main Function\n",
    "\n",
    " ***Part 6*** - End user function that scraps any page of the website from [https://coinmarketcap.com/](https://coinmarketcap.com/)\n",
    "     > Additional function that scraps any two continuous pages from [https://coinmarketcap.com/](https://coinmarketcap.com/)\n",
    "        "
   ]
  },
  {
   "cell_type": "code",
   "execution_count": 4,
   "metadata": {},
   "outputs": [],
   "source": [
    "#Installing  the \"requests\" library\n",
    "!pip install requests --upgrade --quiet"
   ]
  },
  {
   "cell_type": "code",
   "execution_count": 5,
   "metadata": {},
   "outputs": [],
   "source": [
    "#Importing the 'requests' library\n",
    "import requests"
   ]
  },
  {
   "cell_type": "code",
   "execution_count": 6,
   "metadata": {},
   "outputs": [],
   "source": [
    "#Importing Beautiful Soup from bs4\n",
    "from bs4 import BeautifulSoup"
   ]
  },
  {
   "cell_type": "code",
   "execution_count": 7,
   "metadata": {},
   "outputs": [],
   "source": [
    "topic_url='https://coinmarketcap.com'"
   ]
  },
  {
   "cell_type": "markdown",
   "metadata": {},
   "source": [
    "Downloading a web page using the `requests.get` function."
   ]
  },
  {
   "cell_type": "code",
   "execution_count": 8,
   "metadata": {},
   "outputs": [],
   "source": [
    "response = requests.get(topic_url)"
   ]
  },
  {
   "cell_type": "code",
   "execution_count": 9,
   "metadata": {},
   "outputs": [
    {
     "data": {
      "text/plain": [
       "requests.models.Response"
      ]
     },
     "execution_count": 9,
     "metadata": {},
     "output_type": "execute_result"
    }
   ],
   "source": [
    "type(response)"
   ]
  },
  {
   "cell_type": "markdown",
   "metadata": {},
   "source": [
    "`requests.get` returns a response object with the page contents and some information indicating whether the request was successful, using a status code. \n",
    "\n",
    "If the request was successful, `response.status_code` is set to a value between 200 and 299. "
   ]
  },
  {
   "cell_type": "code",
   "execution_count": 10,
   "metadata": {},
   "outputs": [
    {
     "data": {
      "text/plain": [
       "200"
      ]
     },
     "execution_count": 10,
     "metadata": {},
     "output_type": "execute_result"
    }
   ],
   "source": [
    "response.status_code"
   ]
  },
  {
   "cell_type": "markdown",
   "metadata": {},
   "source": [
    "The contents of the web page can be accessed using the `.text` property of the `response`."
   ]
  },
  {
   "cell_type": "code",
   "execution_count": 11,
   "metadata": {},
   "outputs": [],
   "source": [
    "page_contents = response.text"
   ]
  },
  {
   "cell_type": "code",
   "execution_count": 12,
   "metadata": {},
   "outputs": [
    {
     "data": {
      "text/plain": [
       "620848"
      ]
     },
     "execution_count": 12,
     "metadata": {},
     "output_type": "execute_result"
    }
   ],
   "source": [
    "len(page_contents)"
   ]
  },
  {
   "cell_type": "markdown",
   "metadata": {},
   "source": [
    "The page contains over 600,000 characters. Viewing the first 1000 characters of the web page."
   ]
  },
  {
   "cell_type": "code",
   "execution_count": 13,
   "metadata": {},
   "outputs": [
    {
     "data": {
      "text/plain": [
       "'<!DOCTYPE html><html lang=\"en\"><head><meta charSet=\"utf-8\" /><meta http-equiv=\"x-ua-compatible\" content=\"ie=edge\" /><meta name=\"viewport\" content=\"width=device-width, initial-scale=1, maximum-scale=1, user-scalable=no, shrink-to-fit=no\" /><link rel=\"preconnect\" href=\"https://s2.coinmarketcap.com\" crossorigin=\"anonymous\" /><link rel=\"dns-prefetch\" href=\"https://s2.coinmarketcap.com\" crossorigin=\"anonymous\" /><link rel=\"preconnect\" href=\"https://s3.coinmarketcap.com\" crossorigin=\"anonymous\" /><link rel=\"dns-prefetch\" href=\"https://s3.coinmarketcap.com\" crossorigin=\"anonymous\" /><link rel=\"preconnect\" href=\"//www.googletagmanager.com\" /><link rel=\"preload\" href=\"https://s2.coinmarketcap.com/static/cloud/fonts/cmc-v2/CMC-V2.woff\" as=\"font\" type=\"font/woff2\" crossorigin=\"anonymous\" /><meta name=\"google-site-verification\" content=\"EDc1reqlQ-zAgeRrrgAxRXNK-Zs9JgpE9a0wdaoSO9A\" /><meta property=\"og:image\" content=\"https://s2.coinmarketcap.com/static/cloud/img/splash_600x315_1.png?_=faaacca\" /><'"
      ]
     },
     "execution_count": 13,
     "metadata": {},
     "output_type": "execute_result"
    }
   ],
   "source": [
    "page_contents[:1000]"
   ]
  },
  {
   "cell_type": "markdown",
   "metadata": {},
   "source": [
    "What you see above is the *source code* of the web page. It written in a language called [HTML](https://developer.mozilla.org/en-US/docs/Web/HTML). \n",
    "\n",
    "It defines the content and structure of the web page. Saving the contents to a file with the `.html` extension."
   ]
  },
  {
   "cell_type": "code",
   "execution_count": 14,
   "metadata": {},
   "outputs": [],
   "source": [
    "with open('website_content.html', 'w') as file:\n",
    "    file.write(page_contents)"
   ]
  },
  {
   "cell_type": "markdown",
   "metadata": {},
   "source": [
    "Read the contents of the file `website_content.html`"
   ]
  },
  {
   "cell_type": "code",
   "execution_count": 15,
   "metadata": {},
   "outputs": [],
   "source": [
    "with open('website_content.html', 'r') as f:\n",
    "    html_source = f.read()"
   ]
  },
  {
   "cell_type": "markdown",
   "metadata": {},
   "source": [
    "Creating a `BeautifulSoup` object in order to parse the content."
   ]
  },
  {
   "cell_type": "code",
   "execution_count": 16,
   "metadata": {},
   "outputs": [],
   "source": [
    "document = BeautifulSoup(html_source)"
   ]
  },
  {
   "cell_type": "code",
   "execution_count": 17,
   "metadata": {},
   "outputs": [
    {
     "data": {
      "text/plain": [
       "bs4.BeautifulSoup"
      ]
     },
     "execution_count": 17,
     "metadata": {},
     "output_type": "execute_result"
    }
   ],
   "source": [
    "type(document)"
   ]
  },
  {
   "cell_type": "markdown",
   "metadata": {},
   "source": [
    "Function for requesting server of the web page contents using `'reposnse.get'` and store the server’s response in the variable 'response' \n",
    "\n",
    "Checking if the response is valid or not using `'reponse.status_code'` \n",
    "\n",
    "The `status code` will let us know either of two secnarios below\n",
    "\n",
    "1. If the response of the request is `not valid`, then exception is raised with an error message will be returned\n",
    "2. If the response of the request is `valid`, then the `reponse.text` is parsed using BeautifulSoup and returned as BeautifulSoup object"
   ]
  },
  {
   "cell_type": "markdown",
   "metadata": {},
   "source": [
    "#### `page_number` is an optional argument.  The default page will be `1`.\n",
    "\n",
    "If page number other than `1` needs to be scrapped, pass the page number as the second argument to the function."
   ]
  },
  {
   "cell_type": "code",
   "execution_count": 18,
   "metadata": {},
   "outputs": [],
   "source": [
    "def get_topic_page(topic, page_number = 1):\n",
    "    \n",
    "    topic_with_page= topic + '/page=' + str(page_number)\n",
    "    response = requests.get(topic)\n",
    "\n",
    "    #Writing the parsed contents into a .html file, inorder to see if all the required data is visible when .html document is viewed  \n",
    "    with open('Cryptocurrency.html', 'w') as f:\n",
    "        f.write(response.text)\n",
    "    \n",
    "    if not response.ok:\n",
    "        print('Status code:', response.status_code)\n",
    "        raise Exception('Failed to fetch web page' + topic)\n",
    "    \n",
    "    return BeautifulSoup(response.text)\n",
    "        "
   ]
  },
  {
   "cell_type": "markdown",
   "metadata": {},
   "source": [
    "Using the function `get_topic page`. \n",
    "\n",
    "Getting the parsed content of page 1 of the website [https://coinmarketcap.com](https://coinmarketcap.com)"
   ]
  },
  {
   "cell_type": "code",
   "execution_count": 19,
   "metadata": {},
   "outputs": [],
   "source": [
    "topic='https://coinmarketcap.com'\n",
    "doc= get_topic_page(topic)"
   ]
  },
  {
   "cell_type": "markdown",
   "metadata": {},
   "source": [
    "Checking the type of the output function"
   ]
  },
  {
   "cell_type": "code",
   "execution_count": 20,
   "metadata": {},
   "outputs": [
    {
     "data": {
      "text/plain": [
       "bs4.BeautifulSoup"
      ]
     },
     "execution_count": 20,
     "metadata": {},
     "output_type": "execute_result"
    }
   ],
   "source": [
    "type(doc)"
   ]
  },
  {
   "cell_type": "markdown",
   "metadata": {},
   "source": [
    "### Accessing a tags\n",
    "\n",
    "The title of the page is contained within the `<title>` tag. \n",
    "\n",
    "title tag can be accessed using `doc.title`. Similary The `doc` object contains several properties and methods for extracting information from the HTML document. "
   ]
  },
  {
   "cell_type": "code",
   "execution_count": 21,
   "metadata": {},
   "outputs": [
    {
     "data": {
      "text/plain": [
       "<title>Cryptocurrency Prices, Charts And Market Capitalizations | CoinMarketCap</title>"
      ]
     },
     "execution_count": 21,
     "metadata": {},
     "output_type": "execute_result"
    }
   ],
   "source": [
    "doc.title"
   ]
  },
  {
   "cell_type": "code",
   "execution_count": 22,
   "metadata": {},
   "outputs": [
    {
     "data": {
      "text/plain": [
       "bs4.element.Tag"
      ]
     },
     "execution_count": 22,
     "metadata": {},
     "output_type": "execute_result"
    }
   ],
   "source": [
    "type(doc.title)"
   ]
  },
  {
   "cell_type": "markdown",
   "metadata": {},
   "source": [
    "The text within a tag can be accessed using `.text` attrribute\n"
   ]
  },
  {
   "cell_type": "code",
   "execution_count": 23,
   "metadata": {},
   "outputs": [
    {
     "data": {
      "text/plain": [
       "'Cryptocurrency Prices, Charts And Market Capitalizations | CoinMarketCap'"
      ]
     },
     "execution_count": 23,
     "metadata": {},
     "output_type": "execute_result"
    }
   ],
   "source": [
    "doc.title.text"
   ]
  },
  {
   "cell_type": "markdown",
   "metadata": {},
   "source": [
    "The `doc` object contains several properties and methods for extracting information from the HTML document. "
   ]
  },
  {
   "cell_type": "markdown",
   "metadata": {},
   "source": [
    "# Indenifying the elements and the structure. \n",
    "\n",
    ">The best way to have a quick look at the elements and structure of the html page id to visit website's URL. Right clicking anywhere on the page or on the information that being scrapped and choosing `Inspect` option "
   ]
  },
  {
   "cell_type": "markdown",
   "metadata": {},
   "source": [
    "#### Understanding the structure\n",
    "\n",
    "There are two tags `tbody` and `thead` which have all the desired information.\n",
    "\n",
    "![](https://i.imgur.com/O3p1X0p.png)"
   ]
  },
  {
   "cell_type": "markdown",
   "metadata": {},
   "source": [
    "Accessing the text of the `thead` tag within the object `doc`"
   ]
  },
  {
   "cell_type": "code",
   "execution_count": 24,
   "metadata": {},
   "outputs": [
    {
     "data": {
      "text/plain": [
       "'#NamePrice24h %7d %Market CapVolume(24h)Circulating SupplyLast 7 Days'"
      ]
     },
     "execution_count": 24,
     "metadata": {},
     "output_type": "execute_result"
    }
   ],
   "source": [
    "doc.thead.text"
   ]
  },
  {
   "cell_type": "markdown",
   "metadata": {},
   "source": [
    "> `thead` contains the header\\title labels like `Name`, `Price`, `24h %`, `7d %` `Market Cap`, `Volume(24h)`, `Circulating` and  `Last 7 days`\n",
    "\n",
    "![](https://i.imgur.com/56txukc.png)"
   ]
  },
  {
   "cell_type": "code",
   "execution_count": 25,
   "metadata": {},
   "outputs": [
    {
     "data": {
      "text/plain": [
       "'1Bitcoin1BTCBuy$57,217.273.91%4.70%$1,070,400,589,273$61,921,546,6951,082,218 BTC18,707,650 BTC2Ethereum2ETHBuy$4,333.0610.73%32.64%$501,939,726,230$53,423,067,61212,329,190 ETH115,839,662 ETH3Binance Coin3BNBBuy$675.294.57%7.62%$103,612,010,759$4,299,509,8736,366,890 BNB153,432,897 BNB4Dogecoin4DOGE$0.49723.51%28.24%$64,419,348,491$12,677,032,97425,495,821,761 DOGE129,559,040,393 DOGE5Cardano5ADA$1.799.32%35.99%$57,279,843,043$5,400,360,3503,012,095,955 ADA31,948,309,441 ADA6Tether6USDTBuy$1.000.02%0.04%$57,297,337,647$167,877,448,749167,844,303,859 USDT57,286,025,145 USDT7XRP7XRP$1.505.75%5.23%$52,686,828,455$7,560,346,0465,037,902,429 XRP35,108,326,973 XRP8Internet Computer8ICP$362.5123.71%0.00%$44,859,029,900$1,398,293,7243,857,300 ICP123,747,068 ICP9Polkadot9DOTBuy$40.1110.05%10.42%$37,591,201,852$2,329,128,58258,068,861 DOT937,208,147 DOT10Bitcoin Cash10BCH$1,544.5714.99%42.56%$28,937,306,535$8,834,997,7045,720,028 BCH18,734,831 BCHLitecoinLTC$385.54UniswapUNI$41.00ChainlinkLINK$48.75StellarXLM$0.70USD CoinUSDC$1.00VeChainVET$0.21EOSEOS$13.43Ethereum ClassicETC$110.27SolanaSOL$44.04THETATHETA$11.04SHIBA INUSHIB$0.00TRONTRX$0.14FilecoinFIL$142.40Wrapped BitcoinWBTC$57357.82MoneroXMR$460.79NeoNEO$114.44Binance USDBUSD$1.00Bitcoin SVBSV$387.38Huobi TokenHT$35.87TerraLUNA$17.03AaveAAVE$520.05PancakeSwapCAKE$36.58PolygonMATIC$1.17FTX TokenFTT$62.63IOTAMIOTA$2.12TezosXTZ$6.96CosmosATOM$27.19MakerMKR$5625.87KlaytnKLAY$2.27AvalancheAVAX$37.98DaiDAI$1.00THORChainRUNE$19.00BitTorrentBTT$0.01CompoundCOMP$879.22Crypto.com CoinCRO$0.18AlgorandALGO$1.47DashDASH$418.46KusamaKSM$469.32ZcashZEC$334.42RevainREV$0.04WavesWAVES$35.37UNUS SED LEOLEO$3.85NEMXEM$0.36yearn.financeYFI$86898.11ElrondEGLD$182.81Bitcoin BEP2BTCB$56970.86DecredDCR$224.01TelcoinTEL$0.05ChilizCHZ$0.47QtumQTUM$25.02ZilliqaZIL$0.22Hedera HashgraphHBAR$0.28NexoNEXO$4.03DecentralandMANA$1.42SushiSwapSUSHI$17.64HoloHOT$0.01OKBOKB$35.95SynthetixSNX$18.61StacksSTX$1.91Bitcoin GoldBTG$119.46OntologyONT$2.54TerraUSDUST$1.00Basic Attention TokenBAT$1.38DigiByteDGB$0.14Enjin CoinENJ$2.39Theta FuelTFUEL$0.37NEAR ProtocolNEAR$5.12FantomFTM$0.75The GraphGRT$1.49SiacoinSC$0.04CelsiusCEL$7.25UMAUMA$28.55HorizenZEN$152.22OMG NetworkOMG$11.86ICONICX$2.520xZRX$1.97BancorBNT$8.21RavencoinRVN$0.16HeliumHNT$16.96VenusXVS$129.85SwissBorgCHSB$1.24Bitcoin DiamondBCD$6.55HarmonyONE$0.13NanoNANO$9.02CeloCELO$5.21LiskLSK$8.86TrueUSDTUSD$1.00AnkrANKR$0.16BakeryTokenBAKE$5.89KuCoin TokenKCS$13.43'"
      ]
     },
     "execution_count": 25,
     "metadata": {},
     "output_type": "execute_result"
    }
   ],
   "source": [
    "doc.tbody.text"
   ]
  },
  {
   "cell_type": "markdown",
   "metadata": {},
   "source": [
    "> `tbody` will have details the all the cryptocurreny with their details like `Name`, `Price`, `Symbol`,`24h %`, `7d %` `Market Cap`, `Volume(24h)`, `Circulating` and  `Last 7 days` for first 10 cryptocurrencies\n",
    "\n",
    "whereas only 3 details like `Name`, `Symbol` and `Price` are present for the cryptocurrencies from 11 to 100\n",
    "\n",
    "![](https://i.imgur.com/UJKdwHF.png)"
   ]
  },
  {
   "cell_type": "markdown",
   "metadata": {},
   "source": [
    "Further more, all the required deatils are emebedded in `'tr'` tags\n",
    "\n",
    "\n",
    "There are total of 101 `tr` tags in the html document.\n",
    "\n",
    "1. The first `tr` tag is in `thead` tag which is basically a header.\n",
    "\n",
    "2. Remaining 100 `'tr'` tags are present in `tbody` tag which have details of 100 Cryptocurries.\n",
    "\n",
    "> Starting from 2nd `tr`tags, each `tr`  will have details of 1 cryptocurreny\n"
   ]
  },
  {
   "cell_type": "markdown",
   "metadata": {},
   "source": [
    "Finding the headers details contained in `tr` tag of `thead` tag using find_all function"
   ]
  },
  {
   "cell_type": "code",
   "execution_count": 26,
   "metadata": {},
   "outputs": [],
   "source": [
    "tr_head = doc.thead.find_all('tr')"
   ]
  },
  {
   "cell_type": "markdown",
   "metadata": {},
   "source": [
    "Checking the number of `tr` tags within `thead` tag"
   ]
  },
  {
   "cell_type": "code",
   "execution_count": 27,
   "metadata": {},
   "outputs": [
    {
     "data": {
      "text/plain": [
       "1"
      ]
     },
     "execution_count": 27,
     "metadata": {},
     "output_type": "execute_result"
    }
   ],
   "source": [
    "len(tr_head)"
   ]
  },
  {
   "cell_type": "markdown",
   "metadata": {},
   "source": [
    "Reading the headers in `tr` tag of `thead`"
   ]
  },
  {
   "cell_type": "code",
   "execution_count": 28,
   "metadata": {},
   "outputs": [
    {
     "data": {
      "text/plain": [
       "'#NamePrice24h %7d %Market CapVolume(24h)Circulating SupplyLast 7 Days'"
      ]
     },
     "execution_count": 28,
     "metadata": {},
     "output_type": "execute_result"
    }
   ],
   "source": [
    "tr_head[0].text"
   ]
  },
  {
   "cell_type": "markdown",
   "metadata": {},
   "source": [
    "Details of the 100 Cryptocurrenceies, finding 100 `tr` tags within `tbody` tag using `.find_all` function"
   ]
  },
  {
   "cell_type": "code",
   "execution_count": 29,
   "metadata": {},
   "outputs": [],
   "source": [
    "tr_tags = doc.tbody.find_all('tr')"
   ]
  },
  {
   "cell_type": "markdown",
   "metadata": {},
   "source": [
    "Checking the number of `tr` tags in `tr_tags`"
   ]
  },
  {
   "cell_type": "code",
   "execution_count": 30,
   "metadata": {},
   "outputs": [
    {
     "data": {
      "text/plain": [
       "100"
      ]
     },
     "execution_count": 30,
     "metadata": {},
     "output_type": "execute_result"
    }
   ],
   "source": [
    "len(tr_tags)"
   ]
  },
  {
   "cell_type": "markdown",
   "metadata": {},
   "source": [
    "First `tr` tag within `tbody` tag will have the details of first Cryptocurrency called `Bitcoin`. "
   ]
  },
  {
   "cell_type": "code",
   "execution_count": 31,
   "metadata": {},
   "outputs": [
    {
     "data": {
      "text/plain": [
       "'1Bitcoin1BTCBuy$57,217.273.91%4.70%$1,070,400,589,273$61,921,546,6951,082,218 BTC18,707,650 BTC'"
      ]
     },
     "execution_count": 31,
     "metadata": {},
     "output_type": "execute_result"
    }
   ],
   "source": [
    "tr_tags[0].text"
   ]
  },
  {
   "cell_type": "markdown",
   "metadata": {},
   "source": [
    "Getting the name of the Cryptocurrency. Searching all the 'div' tags within 'tr' tags\n"
   ]
  },
  {
   "cell_type": "code",
   "execution_count": 32,
   "metadata": {},
   "outputs": [],
   "source": [
    "tr_tag = tr_tags[0]\n",
    "\n",
    "div_tags = tr_tag.find_all('div')"
   ]
  },
  {
   "cell_type": "code",
   "execution_count": 33,
   "metadata": {},
   "outputs": [
    {
     "data": {
      "text/plain": [
       "16"
      ]
     },
     "execution_count": 33,
     "metadata": {},
     "output_type": "execute_result"
    }
   ],
   "source": [
    "len(div_tags)"
   ]
  },
  {
   "cell_type": "markdown",
   "metadata": {},
   "source": [
    "Reading first `3` `div` tags within `tr` tags out of `16` `div` tags"
   ]
  },
  {
   "cell_type": "code",
   "execution_count": 34,
   "metadata": {},
   "outputs": [
    {
     "data": {
      "text/plain": [
       "[<div class=\"sc-16r8icm-0 dnwuAU\" display=\"flex\"><a class=\"cmc-link\" href=\"/currencies/bitcoin/\"><div class=\"sc-16r8icm-0 sc-1teo54s-0 gKtDwz\"><img class=\"coin-logo\" src=\"https://s2.coinmarketcap.com/static/img/coins/64x64/1.png\"/><div class=\"sc-16r8icm-0 sc-1teo54s-1 lgwUsc\"><p class=\"sc-1eb5slv-0 iJjGCS\" color=\"text\" font-size=\"1\" font-weight=\"semibold\">Bitcoin</p><div class=\"sc-1teo54s-2 fZIJcI\"><div class=\"sc-1teo54s-3 etWhyV\">1</div><p class=\"sc-1eb5slv-0 gGIpIK coin-item-symbol\" color=\"text3\" font-size=\"1\">BTC</p></div></div></div></a><div class=\"sc-16r8icm-0 OAeiV\"><div><div class=\"sc-1ouqzht-0 dwctMr\"><button class=\"sc-1ejyco6-0 koNHjN\" style=\"white-space:nowrap\">Buy</button></div></div></div></div>,\n",
       " <div class=\"sc-16r8icm-0 sc-1teo54s-0 gKtDwz\"><img class=\"coin-logo\" src=\"https://s2.coinmarketcap.com/static/img/coins/64x64/1.png\"/><div class=\"sc-16r8icm-0 sc-1teo54s-1 lgwUsc\"><p class=\"sc-1eb5slv-0 iJjGCS\" color=\"text\" font-size=\"1\" font-weight=\"semibold\">Bitcoin</p><div class=\"sc-1teo54s-2 fZIJcI\"><div class=\"sc-1teo54s-3 etWhyV\">1</div><p class=\"sc-1eb5slv-0 gGIpIK coin-item-symbol\" color=\"text3\" font-size=\"1\">BTC</p></div></div></div>]"
      ]
     },
     "execution_count": 34,
     "metadata": {},
     "output_type": "execute_result"
    }
   ],
   "source": [
    "div_tags[0:2]"
   ]
  },
  {
   "cell_type": "markdown",
   "metadata": {},
   "source": [
    "`div tags` were of no use for Cryptocurrency's data extarction. However `div` tag within the `td` tags are useful\n",
    "\n",
    "Inside of each `tr` tags have `td` tags which has most of the information . \n",
    "\n",
    "Each `td` tag have required infoirmation like price, Market Cap, etc\n"
   ]
  },
  {
   "cell_type": "code",
   "execution_count": 35,
   "metadata": {},
   "outputs": [],
   "source": [
    "td_tags = tr_tag.find_all('td')"
   ]
  },
  {
   "cell_type": "code",
   "execution_count": 36,
   "metadata": {},
   "outputs": [
    {
     "data": {
      "text/plain": [
       "11"
      ]
     },
     "execution_count": 36,
     "metadata": {},
     "output_type": "execute_result"
    }
   ],
   "source": [
    "len(td_tags)"
   ]
  },
  {
   "cell_type": "markdown",
   "metadata": {},
   "source": [
    "Finding all the `div`within `td` tags "
   ]
  },
  {
   "cell_type": "code",
   "execution_count": 37,
   "metadata": {},
   "outputs": [
    {
     "data": {
      "text/plain": [
       "<div class=\"sc-16r8icm-0 dnwuAU\" display=\"flex\"><a class=\"cmc-link\" href=\"/currencies/bitcoin/\"><div class=\"sc-16r8icm-0 sc-1teo54s-0 gKtDwz\"><img class=\"coin-logo\" src=\"https://s2.coinmarketcap.com/static/img/coins/64x64/1.png\"/><div class=\"sc-16r8icm-0 sc-1teo54s-1 lgwUsc\"><p class=\"sc-1eb5slv-0 iJjGCS\" color=\"text\" font-size=\"1\" font-weight=\"semibold\">Bitcoin</p><div class=\"sc-1teo54s-2 fZIJcI\"><div class=\"sc-1teo54s-3 etWhyV\">1</div><p class=\"sc-1eb5slv-0 gGIpIK coin-item-symbol\" color=\"text3\" font-size=\"1\">BTC</p></div></div></div></a><div class=\"sc-16r8icm-0 OAeiV\"><div><div class=\"sc-1ouqzht-0 dwctMr\"><button class=\"sc-1ejyco6-0 koNHjN\" style=\"white-space:nowrap\">Buy</button></div></div></div></div>"
      ]
     },
     "execution_count": 37,
     "metadata": {},
     "output_type": "execute_result"
    }
   ],
   "source": [
    "td_tags[2].div"
   ]
  },
  {
   "cell_type": "code",
   "execution_count": 38,
   "metadata": {},
   "outputs": [
    {
     "data": {
      "text/plain": [
       "2"
      ]
     },
     "execution_count": 38,
     "metadata": {},
     "output_type": "execute_result"
    }
   ],
   "source": [
    "len(td_tags[2].div)"
   ]
  },
  {
   "cell_type": "code",
   "execution_count": 39,
   "metadata": {},
   "outputs": [
    {
     "data": {
      "text/plain": [
       "'Bitcoin1BTCBuy'"
      ]
     },
     "execution_count": 39,
     "metadata": {},
     "output_type": "execute_result"
    }
   ],
   "source": [
    "td_tags[2].div.text"
   ]
  },
  {
   "cell_type": "markdown",
   "metadata": {},
   "source": [
    "> Most of the information is in the 3rd `td` tag i.e. td_tags[2] . Using class we class `sc-16r8icm-0 sc-1teo54s-1 lgwUsc`, we can access `Name`, `Rank` and `Symbol`"
   ]
  },
  {
   "cell_type": "code",
   "execution_count": 40,
   "metadata": {},
   "outputs": [
    {
     "data": {
      "text/plain": [
       "[<div class=\"sc-16r8icm-0 sc-1teo54s-1 lgwUsc\"><p class=\"sc-1eb5slv-0 iJjGCS\" color=\"text\" font-size=\"1\" font-weight=\"semibold\">Bitcoin</p><div class=\"sc-1teo54s-2 fZIJcI\"><div class=\"sc-1teo54s-3 etWhyV\">1</div><p class=\"sc-1eb5slv-0 gGIpIK coin-item-symbol\" color=\"text3\" font-size=\"1\">BTC</p></div></div>]"
      ]
     },
     "execution_count": 40,
     "metadata": {},
     "output_type": "execute_result"
    }
   ],
   "source": [
    "td_tag=td_tags[2]\n",
    "\n",
    "div_in_td = td_tag.find_all('div', class_='sc-16r8icm-0 sc-1teo54s-1 lgwUsc')\n",
    "div_in_td"
   ]
  },
  {
   "cell_type": "code",
   "execution_count": 41,
   "metadata": {},
   "outputs": [
    {
     "data": {
      "text/plain": [
       "1"
      ]
     },
     "execution_count": 41,
     "metadata": {},
     "output_type": "execute_result"
    }
   ],
   "source": [
    "len(div_in_td)"
   ]
  },
  {
   "cell_type": "code",
   "execution_count": 42,
   "metadata": {},
   "outputs": [
    {
     "data": {
      "text/plain": [
       "bs4.element.ResultSet"
      ]
     },
     "execution_count": 42,
     "metadata": {},
     "output_type": "execute_result"
    }
   ],
   "source": [
    "type(div_in_td)"
   ]
  },
  {
   "cell_type": "code",
   "execution_count": 43,
   "metadata": {},
   "outputs": [
    {
     "data": {
      "text/plain": [
       "'Bitcoin1BTC'"
      ]
     },
     "execution_count": 43,
     "metadata": {},
     "output_type": "execute_result"
    }
   ],
   "source": [
    "div_in_td[0].text"
   ]
  },
  {
   "cell_type": "markdown",
   "metadata": {},
   "source": [
    "Getting `Symbol` of the first Cryptocurrency"
   ]
  },
  {
   "cell_type": "code",
   "execution_count": 44,
   "metadata": {},
   "outputs": [
    {
     "data": {
      "text/plain": [
       "'BTC'"
      ]
     },
     "execution_count": 44,
     "metadata": {},
     "output_type": "execute_result"
    }
   ],
   "source": [
    "symbol= div_in_td[0].find_all('p', class_='sc-1eb5slv-0 gGIpIK coin-item-symbol')\n",
    "symbol[0].text"
   ]
  },
  {
   "cell_type": "markdown",
   "metadata": {},
   "source": [
    "Getting `Name` of the first Cryptocurrency"
   ]
  },
  {
   "cell_type": "code",
   "execution_count": 45,
   "metadata": {},
   "outputs": [
    {
     "data": {
      "text/plain": [
       "'Bitcoin'"
      ]
     },
     "execution_count": 45,
     "metadata": {},
     "output_type": "execute_result"
    }
   ],
   "source": [
    "name= div_in_td[0].find_all('p', class_='sc-1eb5slv-0 iJjGCS')\n",
    "name[0].text"
   ]
  },
  {
   "cell_type": "markdown",
   "metadata": {},
   "source": [
    "Getting `Rank` of the first Cryptocurrency"
   ]
  },
  {
   "cell_type": "code",
   "execution_count": 46,
   "metadata": {},
   "outputs": [
    {
     "data": {
      "text/plain": [
       "'1'"
      ]
     },
     "execution_count": 46,
     "metadata": {},
     "output_type": "execute_result"
    }
   ],
   "source": [
    "rank= div_in_td[0].find_all('div', class_='sc-1teo54s-3 etWhyV')\n",
    "rank[0].text"
   ]
  },
  {
   "cell_type": "markdown",
   "metadata": {},
   "source": [
    "Getting the `Price` of the first Cryptocurrency"
   ]
  },
  {
   "cell_type": "code",
   "execution_count": 47,
   "metadata": {},
   "outputs": [
    {
     "data": {
      "text/plain": [
       "'$57,217.27'"
      ]
     },
     "execution_count": 47,
     "metadata": {},
     "output_type": "execute_result"
    }
   ],
   "source": [
    "price_in_USD= td_tags[3].text\n",
    "price_in_USD"
   ]
  },
  {
   "cell_type": "markdown",
   "metadata": {},
   "source": [
    "Removing the `comma` in `Price` as we will be creating output as `.csv` format later on."
   ]
  },
  {
   "cell_type": "code",
   "execution_count": 48,
   "metadata": {},
   "outputs": [
    {
     "data": {
      "text/plain": [
       "'$57217.27'"
      ]
     },
     "execution_count": 48,
     "metadata": {},
     "output_type": "execute_result"
    }
   ],
   "source": [
    "price_in_USD.replace(',','')"
   ]
  },
  {
   "cell_type": "markdown",
   "metadata": {},
   "source": [
    "Getting `Market Capitalization` of the first Cryptocurrency"
   ]
  },
  {
   "cell_type": "code",
   "execution_count": 49,
   "metadata": {},
   "outputs": [
    {
     "data": {
      "text/plain": [
       "'$1,070,400,589,273'"
      ]
     },
     "execution_count": 49,
     "metadata": {},
     "output_type": "execute_result"
    }
   ],
   "source": [
    "Market_Capitalization= td_tags[6].text\n",
    "Market_Capitalization"
   ]
  },
  {
   "cell_type": "markdown",
   "metadata": {},
   "source": [
    "Getting the `URL` of the first Cryptocurrency"
   ]
  },
  {
   "cell_type": "code",
   "execution_count": 50,
   "metadata": {},
   "outputs": [],
   "source": [
    "base_url = 'https://coinmarketcap.com'"
   ]
  },
  {
   "cell_type": "code",
   "execution_count": 51,
   "metadata": {},
   "outputs": [
    {
     "data": {
      "text/plain": [
       "'/currencies/bitcoin/'"
      ]
     },
     "execution_count": 51,
     "metadata": {},
     "output_type": "execute_result"
    }
   ],
   "source": [
    "url_Cryptocurrency = td_tag.a['href'].strip()\n",
    "url_Cryptocurrency"
   ]
  },
  {
   "cell_type": "code",
   "execution_count": 52,
   "metadata": {},
   "outputs": [
    {
     "data": {
      "text/plain": [
       "'https://coinmarketcap.com/currencies/bitcoin/'"
      ]
     },
     "execution_count": 52,
     "metadata": {},
     "output_type": "execute_result"
    }
   ],
   "source": [
    "url = base_url + url_Cryptocurrency\n",
    "url"
   ]
  },
  {
   "cell_type": "markdown",
   "metadata": {},
   "source": [
    "Getting the `image` of the first Cryptocurrency"
   ]
  },
  {
   "cell_type": "code",
   "execution_count": 53,
   "metadata": {},
   "outputs": [
    {
     "data": {
      "text/plain": [
       "'https://s2.coinmarketcap.com/static/img/coins/64x64/1.png'"
      ]
     },
     "execution_count": 53,
     "metadata": {},
     "output_type": "execute_result"
    }
   ],
   "source": [
    "img_in_div= td_tag.find_all('div', class_='sc-16r8icm-0 sc-1teo54s-0 gKtDwz')\n",
    "image= img_in_div[0].img['src']\n",
    "image"
   ]
  },
  {
   "cell_type": "markdown",
   "metadata": {},
   "source": [
    "# Part 1 - Cryptocurrencies ranking form 1 to 10"
   ]
  },
  {
   "cell_type": "code",
   "execution_count": 54,
   "metadata": {},
   "outputs": [],
   "source": [
    "# Function for to get all the details of any cryptocurrencies that are ranked form 1 to 10 \n",
    "\n",
    "def cryptocurrency_part_one(tr_tag):\n",
    "    \n",
    "    td_tags = tr_tag.find_all('td')\n",
    "    td_tag=td_tags[2]\n",
    "    div_in_td = td_tag.find_all('div', class_='sc-16r8icm-0 sc-1teo54s-1 lgwUsc') \n",
    "    rank = div_in_td[0].find_all('div', class_='sc-1teo54s-3 etWhyV')\n",
    "    symbol= div_in_td[0].find_all('p', class_='sc-1eb5slv-0 gGIpIK coin-item-symbol')\n",
    "    img_in_div= td_tag.find_all('div', class_='sc-16r8icm-0 sc-1teo54s-0 gKtDwz')\n",
    "    image = img_in_div[0].img['src']\n",
    "    name = div_in_td[0].find_all('p', class_='sc-1eb5slv-0 iJjGCS')\n",
    "    price_in_USD1 = td_tags[3].text\n",
    "    price_in_USD = price_in_USD1.replace(',','')\n",
    "    Market_Capitalization= td_tags[6].text\n",
    "    base_url = 'https://coinmarketcap.com'\n",
    "    url_Cryptocurrency = td_tag.a['href'].strip()\n",
    "    URL = base_url + url_Cryptocurrency   \n",
    "    return{\n",
    "        'rank': rank[0].text,\n",
    "        'symbol_of_Cruptocurrency': symbol[0].text,\n",
    "        'Image' : image,\n",
    "        'Name' : name[0].text, \n",
    "        'Price_in_USD' : price_in_USD,\n",
    "        'Market_Capitalization' : Market_Capitalization,\n",
    "        'url': URL\n",
    "    }"
   ]
  },
  {
   "cell_type": "markdown",
   "metadata": {},
   "source": [
    "Getting Cryptocurrency for `tr_tags [0]` i.e first cryptocurrency"
   ]
  },
  {
   "cell_type": "code",
   "execution_count": 55,
   "metadata": {},
   "outputs": [
    {
     "data": {
      "text/plain": [
       "{'rank': '1',\n",
       " 'symbol_of_Cruptocurrency': 'BTC',\n",
       " 'Image': 'https://s2.coinmarketcap.com/static/img/coins/64x64/1.png',\n",
       " 'Name': 'Bitcoin',\n",
       " 'Price_in_USD': '$57217.27',\n",
       " 'Market_Capitalization': '$1,070,400,589,273',\n",
       " 'url': 'https://coinmarketcap.com/currencies/bitcoin/'}"
      ]
     },
     "execution_count": 55,
     "metadata": {},
     "output_type": "execute_result"
    }
   ],
   "source": [
    "cryptocurrency_part_one(tr_tags[0])"
   ]
  },
  {
   "cell_type": "code",
   "execution_count": 56,
   "metadata": {},
   "outputs": [
    {
     "data": {
      "text/plain": [
       "{'rank': '6',\n",
       " 'symbol_of_Cruptocurrency': 'USDT',\n",
       " 'Image': 'https://s2.coinmarketcap.com/static/img/coins/64x64/825.png',\n",
       " 'Name': 'Tether',\n",
       " 'Price_in_USD': '$1.00',\n",
       " 'Market_Capitalization': '$57,297,337,647',\n",
       " 'url': 'https://coinmarketcap.com/currencies/tether/'}"
      ]
     },
     "execution_count": 56,
     "metadata": {},
     "output_type": "execute_result"
    }
   ],
   "source": [
    "# Getting Cryptocurrency for other tr_tags\n",
    "cryptocurrency_part_one(tr_tags[5])"
   ]
  },
  {
   "cell_type": "code",
   "execution_count": 57,
   "metadata": {},
   "outputs": [
    {
     "data": {
      "text/plain": [
       "{'rank': '10',\n",
       " 'symbol_of_Cruptocurrency': 'BCH',\n",
       " 'Image': 'https://s2.coinmarketcap.com/static/img/coins/64x64/1831.png',\n",
       " 'Name': 'Bitcoin Cash',\n",
       " 'Price_in_USD': '$1544.57',\n",
       " 'Market_Capitalization': '$28,937,306,535',\n",
       " 'url': 'https://coinmarketcap.com/currencies/bitcoin-cash/'}"
      ]
     },
     "execution_count": 57,
     "metadata": {},
     "output_type": "execute_result"
    }
   ],
   "source": [
    "# Getting Cryptocurrency for other tr_tags\n",
    "cryptocurrency_part_one(tr_tags[9])"
   ]
  },
  {
   "cell_type": "code",
   "execution_count": 58,
   "metadata": {},
   "outputs": [
    {
     "ename": "IndexError",
     "evalue": "list index out of range",
     "output_type": "error",
     "traceback": [
      "\u001b[0;31m---------------------------------------------------------------------------\u001b[0m",
      "\u001b[0;31mIndexError\u001b[0m                                Traceback (most recent call last)",
      "\u001b[0;32m<ipython-input-58-e5fb326e88f1>\u001b[0m in \u001b[0;36m<module>\u001b[0;34m\u001b[0m\n\u001b[1;32m      1\u001b[0m \u001b[0;31m# Getting Cryptocurrency for other tr_tags\u001b[0m\u001b[0;34m\u001b[0m\u001b[0;34m\u001b[0m\u001b[0;34m\u001b[0m\u001b[0m\n\u001b[0;32m----> 2\u001b[0;31m \u001b[0mcryptocurrency_part_one\u001b[0m\u001b[0;34m(\u001b[0m\u001b[0mtr_tags\u001b[0m\u001b[0;34m[\u001b[0m\u001b[0;36m10\u001b[0m\u001b[0;34m]\u001b[0m\u001b[0;34m)\u001b[0m\u001b[0;34m\u001b[0m\u001b[0;34m\u001b[0m\u001b[0m\n\u001b[0m",
      "\u001b[0;32m<ipython-input-54-a90410ada958>\u001b[0m in \u001b[0;36mcryptocurrency_part_one\u001b[0;34m(tr_tag)\u001b[0m\n\u001b[1;32m      6\u001b[0m     \u001b[0mtd_tag\u001b[0m\u001b[0;34m=\u001b[0m\u001b[0mtd_tags\u001b[0m\u001b[0;34m[\u001b[0m\u001b[0;36m2\u001b[0m\u001b[0;34m]\u001b[0m\u001b[0;34m\u001b[0m\u001b[0;34m\u001b[0m\u001b[0m\n\u001b[1;32m      7\u001b[0m     \u001b[0mdiv_in_td\u001b[0m \u001b[0;34m=\u001b[0m \u001b[0mtd_tag\u001b[0m\u001b[0;34m.\u001b[0m\u001b[0mfind_all\u001b[0m\u001b[0;34m(\u001b[0m\u001b[0;34m'div'\u001b[0m\u001b[0;34m,\u001b[0m \u001b[0mclass_\u001b[0m\u001b[0;34m=\u001b[0m\u001b[0;34m'sc-16r8icm-0 sc-1teo54s-1 lgwUsc'\u001b[0m\u001b[0;34m)\u001b[0m\u001b[0;34m\u001b[0m\u001b[0;34m\u001b[0m\u001b[0m\n\u001b[0;32m----> 8\u001b[0;31m     \u001b[0mrank\u001b[0m \u001b[0;34m=\u001b[0m \u001b[0mdiv_in_td\u001b[0m\u001b[0;34m[\u001b[0m\u001b[0;36m0\u001b[0m\u001b[0;34m]\u001b[0m\u001b[0;34m.\u001b[0m\u001b[0mfind_all\u001b[0m\u001b[0;34m(\u001b[0m\u001b[0;34m'div'\u001b[0m\u001b[0;34m,\u001b[0m \u001b[0mclass_\u001b[0m\u001b[0;34m=\u001b[0m\u001b[0;34m'sc-1teo54s-3 etWhyV'\u001b[0m\u001b[0;34m)\u001b[0m\u001b[0;34m\u001b[0m\u001b[0;34m\u001b[0m\u001b[0m\n\u001b[0m\u001b[1;32m      9\u001b[0m     \u001b[0msymbol\u001b[0m\u001b[0;34m=\u001b[0m \u001b[0mdiv_in_td\u001b[0m\u001b[0;34m[\u001b[0m\u001b[0;36m0\u001b[0m\u001b[0;34m]\u001b[0m\u001b[0;34m.\u001b[0m\u001b[0mfind_all\u001b[0m\u001b[0;34m(\u001b[0m\u001b[0;34m'p'\u001b[0m\u001b[0;34m,\u001b[0m \u001b[0mclass_\u001b[0m\u001b[0;34m=\u001b[0m\u001b[0;34m'sc-1eb5slv-0 gGIpIK coin-item-symbol'\u001b[0m\u001b[0;34m)\u001b[0m\u001b[0;34m\u001b[0m\u001b[0;34m\u001b[0m\u001b[0m\n\u001b[1;32m     10\u001b[0m     \u001b[0mimg_in_div\u001b[0m\u001b[0;34m=\u001b[0m \u001b[0mtd_tag\u001b[0m\u001b[0;34m.\u001b[0m\u001b[0mfind_all\u001b[0m\u001b[0;34m(\u001b[0m\u001b[0;34m'div'\u001b[0m\u001b[0;34m,\u001b[0m \u001b[0mclass_\u001b[0m\u001b[0;34m=\u001b[0m\u001b[0;34m'sc-16r8icm-0 sc-1teo54s-0 gKtDwz'\u001b[0m\u001b[0;34m)\u001b[0m\u001b[0;34m\u001b[0m\u001b[0;34m\u001b[0m\u001b[0m\n",
      "\u001b[0;31mIndexError\u001b[0m: list index out of range"
     ]
    }
   ],
   "source": [
    "# Getting Cryptocurrency for other tr_tags\n",
    "cryptocurrency_part_one(tr_tags[10])"
   ]
  },
  {
   "cell_type": "markdown",
   "metadata": {},
   "source": [
    "## <span style=\"color:red\">NOTE - When getting the details from tr_tags[10], we got an error!</span>\n",
    "\n",
    ">We are getting this error because of the element/tags/properties present in `tr` tags from __1 to 10__ are differnt from __11 to 100__  "
   ]
  },
  {
   "cell_type": "code",
   "execution_count": 59,
   "metadata": {},
   "outputs": [
    {
     "data": {
      "text/plain": [
       "<tr class=\"sc-14kwl6f-0 fletOv\"><td><span></span></td><td><span></span></td><td><a class=\"cmc-link\" href=\"/currencies/litecoin/\"><span class=\"circle\"></span><span>Litecoin</span><span class=\"crypto-symbol\">LTC</span></a></td><td><span>$<!-- -->385.54</span></td><td><span></span></td></tr>"
      ]
     },
     "execution_count": 59,
     "metadata": {},
     "output_type": "execute_result"
    }
   ],
   "source": [
    "tr_tags[10]"
   ]
  },
  {
   "cell_type": "code",
   "execution_count": 60,
   "metadata": {},
   "outputs": [
    {
     "data": {
      "text/plain": [
       "5"
      ]
     },
     "execution_count": 60,
     "metadata": {},
     "output_type": "execute_result"
    }
   ],
   "source": [
    "len(tr_tags[10])"
   ]
  },
  {
   "cell_type": "code",
   "execution_count": 61,
   "metadata": {},
   "outputs": [
    {
     "data": {
      "text/plain": [
       "'LitecoinLTC$385.54'"
      ]
     },
     "execution_count": 61,
     "metadata": {},
     "output_type": "execute_result"
    }
   ],
   "source": [
    "tr_tags[10].text"
   ]
  },
  {
   "cell_type": "markdown",
   "metadata": {},
   "source": [
    "The `tr_tags[10]` is having only `4` details of __Name, Price, Symbol__ and __URL__ unlike form `tr_tags[0`] to `tr_tags[9]` had `7` details\n",
    "\n",
    ">The same applies for tags `tr_tags[10]` to `tr_tags[99]`"
   ]
  },
  {
   "cell_type": "code",
   "execution_count": 62,
   "metadata": {},
   "outputs": [
    {
     "data": {
      "text/plain": [
       "5"
      ]
     },
     "execution_count": 62,
     "metadata": {},
     "output_type": "execute_result"
    }
   ],
   "source": [
    "td_tags_2= tr_tags[10].find_all('td')\n",
    "len(td_tags_2)"
   ]
  },
  {
   "cell_type": "code",
   "execution_count": 63,
   "metadata": {},
   "outputs": [
    {
     "data": {
      "text/plain": [
       "5"
      ]
     },
     "execution_count": 63,
     "metadata": {},
     "output_type": "execute_result"
    }
   ],
   "source": [
    "tr_test=tr_tags[10]\n",
    "\n",
    "td_tag_test = tr_test.find_all('td')\n",
    "len(td_tag_test)"
   ]
  },
  {
   "cell_type": "code",
   "execution_count": 64,
   "metadata": {},
   "outputs": [
    {
     "data": {
      "text/plain": [
       "<td><a class=\"cmc-link\" href=\"/currencies/litecoin/\"><span class=\"circle\"></span><span>Litecoin</span><span class=\"crypto-symbol\">LTC</span></a></td>"
      ]
     },
     "execution_count": 64,
     "metadata": {},
     "output_type": "execute_result"
    }
   ],
   "source": [
    "td_tags_2[2]"
   ]
  },
  {
   "cell_type": "markdown",
   "metadata": {},
   "source": [
    ">Accessing all the `span` tags within third `td` tag"
   ]
  },
  {
   "cell_type": "code",
   "execution_count": 65,
   "metadata": {},
   "outputs": [
    {
     "data": {
      "text/plain": [
       "[<span class=\"circle\"></span>,\n",
       " <span>Litecoin</span>,\n",
       " <span class=\"crypto-symbol\">LTC</span>]"
      ]
     },
     "execution_count": 65,
     "metadata": {},
     "output_type": "execute_result"
    }
   ],
   "source": [
    "span=td_tags_2[2].a.find_all('span')\n",
    "span"
   ]
  },
  {
   "cell_type": "markdown",
   "metadata": {},
   "source": [
    "Getting the `URL` of 11th Cryptocurrenc"
   ]
  },
  {
   "cell_type": "code",
   "execution_count": 66,
   "metadata": {},
   "outputs": [
    {
     "data": {
      "text/plain": [
       "'/currencies/litecoin/'"
      ]
     },
     "execution_count": 66,
     "metadata": {},
     "output_type": "execute_result"
    }
   ],
   "source": [
    "td_tags_2[2].a['href']"
   ]
  },
  {
   "cell_type": "markdown",
   "metadata": {},
   "source": [
    "Getting the `Name` of 11th Cryptocurrency"
   ]
  },
  {
   "cell_type": "code",
   "execution_count": 67,
   "metadata": {},
   "outputs": [
    {
     "data": {
      "text/plain": [
       "'Litecoin'"
      ]
     },
     "execution_count": 67,
     "metadata": {},
     "output_type": "execute_result"
    }
   ],
   "source": [
    "span[1].text"
   ]
  },
  {
   "cell_type": "markdown",
   "metadata": {},
   "source": [
    "Getting the `Symbol` of 11th Cryptocurrency"
   ]
  },
  {
   "cell_type": "code",
   "execution_count": 68,
   "metadata": {},
   "outputs": [
    {
     "data": {
      "text/plain": [
       "'LTC'"
      ]
     },
     "execution_count": 68,
     "metadata": {},
     "output_type": "execute_result"
    }
   ],
   "source": [
    "span[2].text"
   ]
  },
  {
   "cell_type": "markdown",
   "metadata": {},
   "source": [
    "Getting the `Price` of 11th Cryptocurrency"
   ]
  },
  {
   "cell_type": "code",
   "execution_count": 69,
   "metadata": {},
   "outputs": [
    {
     "data": {
      "text/plain": [
       "'$385.54'"
      ]
     },
     "execution_count": 69,
     "metadata": {},
     "output_type": "execute_result"
    }
   ],
   "source": [
    "td_tags_2[3].text"
   ]
  },
  {
   "cell_type": "markdown",
   "metadata": {},
   "source": [
    "# Part 1 - Cryptocurrencies ranking form 11 to 100\n",
    "> Function for to get `4` details `Name`, `Price` , `Symbol` and `URL` of cryptocurrencies that are ranked between 11 and 100"
   ]
  },
  {
   "cell_type": "code",
   "execution_count": 70,
   "metadata": {},
   "outputs": [],
   "source": [
    "def cryptocurrency_part_two(tr_tag):\n",
    "    \n",
    "    td_tags_2= tr_tag.find_all('td')\n",
    "    span=td_tags_2[2].a.find_all('span')\n",
    "    name = span[1].text\n",
    "    symbol= span[2].text\n",
    "    price_in_USD1 = td_tags[3].text\n",
    "    price_in_USD = price_in_USD1.replace(',','')\n",
    "    base_url = 'https://coinmarketcap.com'\n",
    "    url_Cryptocurrency = td_tags_2[2].a['href'].strip()\n",
    "    url = base_url + url_Cryptocurrency\n",
    "    return{\n",
    "    'Name_of_the_Cruptocurrency ' : name,\n",
    "    'symbol_of_Cruptocurrency': symbol, \n",
    "    'Price_in_USD' : price_in_USD,\n",
    "    'url':url\n",
    "    }"
   ]
  },
  {
   "cell_type": "markdown",
   "metadata": {},
   "source": [
    "Accessing the details of 11th Cryptocurrency"
   ]
  },
  {
   "cell_type": "code",
   "execution_count": 71,
   "metadata": {},
   "outputs": [
    {
     "data": {
      "text/plain": [
       "{'Name_of_the_Cruptocurrency ': 'Litecoin',\n",
       " 'symbol_of_Cruptocurrency': 'LTC',\n",
       " 'Price_in_USD': '$57217.27',\n",
       " 'url': 'https://coinmarketcap.com/currencies/litecoin/'}"
      ]
     },
     "execution_count": 71,
     "metadata": {},
     "output_type": "execute_result"
    }
   ],
   "source": [
    "cryptocurrency_part_two(tr_tags[10])"
   ]
  },
  {
   "cell_type": "markdown",
   "metadata": {},
   "source": [
    "Accessing the details of 99th Cryptocurrency"
   ]
  },
  {
   "cell_type": "code",
   "execution_count": 72,
   "metadata": {},
   "outputs": [
    {
     "data": {
      "text/plain": [
       "{'Name_of_the_Cruptocurrency ': 'KuCoin Token',\n",
       " 'symbol_of_Cruptocurrency': 'KCS',\n",
       " 'Price_in_USD': '$57217.27',\n",
       " 'url': 'https://coinmarketcap.com/currencies/kucoin-token/'}"
      ]
     },
     "execution_count": 72,
     "metadata": {},
     "output_type": "execute_result"
    }
   ],
   "source": [
    "cryptocurrency_part_two(tr_tags[99])"
   ]
  },
  {
   "cell_type": "markdown",
   "metadata": {},
   "source": [
    ">Accessing the details of Cryptocurrencies ranked from 11 to 100"
   ]
  },
  {
   "cell_type": "code",
   "execution_count": 73,
   "metadata": {},
   "outputs": [],
   "source": [
    "Cryptocurrency_part_two =[cryptocurrency_part_two(tr_tags[i]) for i in range(10,100)]"
   ]
  },
  {
   "cell_type": "markdown",
   "metadata": {},
   "source": [
    "> Checking Cryptocurrecny's details of `first 3` and `last 3` of the list that are ranked from `11 to 100`"
   ]
  },
  {
   "cell_type": "code",
   "execution_count": 74,
   "metadata": {},
   "outputs": [
    {
     "data": {
      "text/plain": [
       "[{'Name_of_the_Cruptocurrency ': 'Litecoin',\n",
       "  'symbol_of_Cruptocurrency': 'LTC',\n",
       "  'Price_in_USD': '$57217.27',\n",
       "  'url': 'https://coinmarketcap.com/currencies/litecoin/'},\n",
       " {'Name_of_the_Cruptocurrency ': 'Uniswap',\n",
       "  'symbol_of_Cruptocurrency': 'UNI',\n",
       "  'Price_in_USD': '$57217.27',\n",
       "  'url': 'https://coinmarketcap.com/currencies/uniswap/'},\n",
       " {'Name_of_the_Cruptocurrency ': 'Chainlink',\n",
       "  'symbol_of_Cruptocurrency': 'LINK',\n",
       "  'Price_in_USD': '$57217.27',\n",
       "  'url': 'https://coinmarketcap.com/currencies/chainlink/'}]"
      ]
     },
     "execution_count": 74,
     "metadata": {},
     "output_type": "execute_result"
    }
   ],
   "source": [
    "Cryptocurrency_part_two[:3]"
   ]
  },
  {
   "cell_type": "code",
   "execution_count": 75,
   "metadata": {},
   "outputs": [
    {
     "data": {
      "text/plain": [
       "[{'Name_of_the_Cruptocurrency ': 'Ankr',\n",
       "  'symbol_of_Cruptocurrency': 'ANKR',\n",
       "  'Price_in_USD': '$57217.27',\n",
       "  'url': 'https://coinmarketcap.com/currencies/ankr/'},\n",
       " {'Name_of_the_Cruptocurrency ': 'BakeryToken',\n",
       "  'symbol_of_Cruptocurrency': 'BAKE',\n",
       "  'Price_in_USD': '$57217.27',\n",
       "  'url': 'https://coinmarketcap.com/currencies/bakerytoken/'},\n",
       " {'Name_of_the_Cruptocurrency ': 'KuCoin Token',\n",
       "  'symbol_of_Cruptocurrency': 'KCS',\n",
       "  'Price_in_USD': '$57217.27',\n",
       "  'url': 'https://coinmarketcap.com/currencies/kucoin-token/'}]"
      ]
     },
     "execution_count": 75,
     "metadata": {},
     "output_type": "execute_result"
    }
   ],
   "source": [
    "Cryptocurrency_part_two[-3:]"
   ]
  },
  {
   "cell_type": "markdown",
   "metadata": {},
   "source": [
    "### Part 3 - Function to get cryptocurrencies ranking from `1 to 10 (Part 1)` and `11 to 100 (Part 2)`"
   ]
  },
  {
   "cell_type": "markdown",
   "metadata": {},
   "source": [
    ">Function for to get 4 details `Name`, `Price`, `Symbol` and `URL` that are common to cryptocurrencies ranked between 1 and 100"
   ]
  },
  {
   "cell_type": "code",
   "execution_count": 76,
   "metadata": {},
   "outputs": [
    {
     "data": {
      "text/plain": [
       "100"
      ]
     },
     "execution_count": 76,
     "metadata": {},
     "output_type": "execute_result"
    }
   ],
   "source": [
    "len(tr_tags)"
   ]
  },
  {
   "cell_type": "code",
   "execution_count": 77,
   "metadata": {},
   "outputs": [],
   "source": [
    "def complete_cryptocurrencies_list(tr_tag):\n",
    "    td_tags = tr_tag.find_all('td')\n",
    "    \n",
    "    if (tr_tags.index(tr_tag))<10:\n",
    "        td_tag=td_tags[2]\n",
    "        div_in_td = td_tag.find_all('div', class_='sc-16r8icm-0 sc-1teo54s-1 lgwUsc') \n",
    "        name2 = div_in_td[0].find_all('p', class_='sc-1eb5slv-0 iJjGCS')\n",
    "        name = name2[0].text\n",
    "        symbol2 = div_in_td[0].find_all('p', class_='sc-1eb5slv-0 gGIpIK coin-item-symbol')\n",
    "        symbol= symbol2[0].text\n",
    "        price_in_USD1 = td_tags[3].text\n",
    "        price_in_USD = price_in_USD1.replace(',','')\n",
    "        base_url = 'https://coinmarketcap.com'\n",
    "        url_Cryptocurrency = td_tag.a['href'].strip()\n",
    "        URL = base_url + url_Cryptocurrency\n",
    "        \n",
    "    else:    \n",
    "        span=td_tags[2].a.find_all('span')\n",
    "        name = span[1].text\n",
    "        symbol= span[2].text\n",
    "        price_in_USD1 = td_tags_2[3].text\n",
    "        price_in_USD = price_in_USD1.replace(',','')\n",
    "        base_url = 'https://coinmarketcap.com'\n",
    "        url_Cryptocurrency = td_tags_2[2].a['href'].strip()\n",
    "        URL = base_url + url_Cryptocurrency\n",
    "    \n",
    "    return{\n",
    "        'Name_of_the_Cryptocurrency' : name,\n",
    "        'Symbol_of_Cryptocurrency': symbol, \n",
    "        'Price_in_USD' : price_in_USD,\n",
    "        'URL':URL\n",
    "        }"
   ]
  },
  {
   "cell_type": "markdown",
   "metadata": {},
   "source": [
    "#### Accessing the details of Cryptocurrencies ranked from 1 to 100"
   ]
  },
  {
   "cell_type": "code",
   "execution_count": 78,
   "metadata": {},
   "outputs": [],
   "source": [
    "top_100_cryptocurrenices = [complete_cryptocurrencies_list(tr_tags[i]) for i in range(100)]"
   ]
  },
  {
   "cell_type": "markdown",
   "metadata": {},
   "source": [
    "> Checking Cryptocurrecny's details of `first 3` and `last 3` of the list that are ranked from `1 to 100 `"
   ]
  },
  {
   "cell_type": "code",
   "execution_count": 79,
   "metadata": {},
   "outputs": [
    {
     "data": {
      "text/plain": [
       "[{'Name_of_the_Cryptocurrency': 'Bitcoin',\n",
       "  'Symbol_of_Cryptocurrency': 'BTC',\n",
       "  'Price_in_USD': '$57217.27',\n",
       "  'URL': 'https://coinmarketcap.com/currencies/bitcoin/'},\n",
       " {'Name_of_the_Cryptocurrency': 'Ethereum',\n",
       "  'Symbol_of_Cryptocurrency': 'ETH',\n",
       "  'Price_in_USD': '$4333.06',\n",
       "  'URL': 'https://coinmarketcap.com/currencies/ethereum/'},\n",
       " {'Name_of_the_Cryptocurrency': 'Binance Coin',\n",
       "  'Symbol_of_Cryptocurrency': 'BNB',\n",
       "  'Price_in_USD': '$675.29',\n",
       "  'URL': 'https://coinmarketcap.com/currencies/binance-coin/'}]"
      ]
     },
     "execution_count": 79,
     "metadata": {},
     "output_type": "execute_result"
    }
   ],
   "source": [
    "top_100_cryptocurrenices[:3]"
   ]
  },
  {
   "cell_type": "code",
   "execution_count": 80,
   "metadata": {},
   "outputs": [
    {
     "data": {
      "text/plain": [
       "[{'Name_of_the_Cryptocurrency': 'Ankr',\n",
       "  'Symbol_of_Cryptocurrency': 'ANKR',\n",
       "  'Price_in_USD': '$385.54',\n",
       "  'URL': 'https://coinmarketcap.com/currencies/litecoin/'},\n",
       " {'Name_of_the_Cryptocurrency': 'BakeryToken',\n",
       "  'Symbol_of_Cryptocurrency': 'BAKE',\n",
       "  'Price_in_USD': '$385.54',\n",
       "  'URL': 'https://coinmarketcap.com/currencies/litecoin/'},\n",
       " {'Name_of_the_Cryptocurrency': 'KuCoin Token',\n",
       "  'Symbol_of_Cryptocurrency': 'KCS',\n",
       "  'Price_in_USD': '$385.54',\n",
       "  'URL': 'https://coinmarketcap.com/currencies/litecoin/'}]"
      ]
     },
     "execution_count": 80,
     "metadata": {},
     "output_type": "execute_result"
    }
   ],
   "source": [
    "top_100_cryptocurrenices[-3:]"
   ]
  },
  {
   "cell_type": "markdown",
   "metadata": {},
   "source": [
    "### Writing a function to write the contents of lsit of dictonary into a .csv file "
   ]
  },
  {
   "cell_type": "code",
   "execution_count": 81,
   "metadata": {},
   "outputs": [],
   "source": [
    "def write_csv(items, path):\n",
    "    # Open the file in write mode\n",
    "    with open(path, 'w') as f:\n",
    "        # Return if there's nothing to write\n",
    "        if len(items) == 0:\n",
    "            return\n",
    "        \n",
    "        # Write the headers in the first line\n",
    "        headers = list(items[0].keys())\n",
    "        f.write(','.join(headers) + '\\n')\n",
    "        \n",
    "        # Write one item per line\n",
    "        for item in items:\n",
    "            values = []\n",
    "            for header in headers:\n",
    "                values.append(str(item.get(header, \"\")))\n",
    "            f.write(','.join(values) + \"\\n\")"
   ]
  },
  {
   "cell_type": "code",
   "execution_count": 82,
   "metadata": {},
   "outputs": [],
   "source": [
    "write_csv(top_100_cryptocurrenices, 'top_100_cryptocurrenices.csv')"
   ]
  },
  {
   "cell_type": "markdown",
   "metadata": {},
   "source": [
    "# Part 4 - Adding rank numbers to the crytocurrenices \n",
    "\n",
    "> Writing ranks numbers 1 to 100 into a .csv file"
   ]
  },
  {
   "cell_type": "markdown",
   "metadata": {},
   "source": [
    "Adding the rank lists as rank list is not avaiable in tr_tags[10] to tr_tags[99].\n",
    "\n",
    "Function will write 100 numbers as ranks depending upon the page selected for scrapping. \n",
    "\n",
    ">For __page 1__ - Numbers `1 to 100` will be the output.\n",
    "\n",
    ">For __page 2__ - Numbers `101 to 200` will be the output and so on."
   ]
  },
  {
   "cell_type": "code",
   "execution_count": 83,
   "metadata": {},
   "outputs": [],
   "source": [
    "def rank_list(page_number):\n",
    "    with open('rank_list.csv', 'w') as f:\n",
    "        f.write('Rank' + '\\n')\n",
    "        if page_number == 0: \n",
    "            page_number = 1\n",
    "        rank_range = [(((page_number-1)*100)+i) for i in range(1,101)]\n",
    "        for rank_number in rank_range:\n",
    "            f.write(str(rank_number) + '\\n')\n",
    "    return rank_range"
   ]
  },
  {
   "cell_type": "markdown",
   "metadata": {},
   "source": [
    "Rank list for `page 5` should be from `401 to 500`"
   ]
  },
  {
   "cell_type": "code",
   "execution_count": 84,
   "metadata": {},
   "outputs": [
    {
     "data": {
      "text/plain": [
       "(401, 500)"
      ]
     },
     "execution_count": 84,
     "metadata": {},
     "output_type": "execute_result"
    }
   ],
   "source": [
    "rank_list(5)[0], rank_list(5)[99]"
   ]
  },
  {
   "cell_type": "code",
   "execution_count": 85,
   "metadata": {},
   "outputs": [],
   "source": [
    "#Importing pandas libary \n",
    "import pandas as pd"
   ]
  },
  {
   "cell_type": "markdown",
   "metadata": {},
   "source": [
    "Reading the `rank.csv` file"
   ]
  },
  {
   "cell_type": "code",
   "execution_count": 86,
   "metadata": {},
   "outputs": [
    {
     "data": {
      "text/html": [
       "<div>\n",
       "<style scoped>\n",
       "    .dataframe tbody tr th:only-of-type {\n",
       "        vertical-align: middle;\n",
       "    }\n",
       "\n",
       "    .dataframe tbody tr th {\n",
       "        vertical-align: top;\n",
       "    }\n",
       "\n",
       "    .dataframe thead th {\n",
       "        text-align: right;\n",
       "    }\n",
       "</style>\n",
       "<table border=\"1\" class=\"dataframe\">\n",
       "  <thead>\n",
       "    <tr style=\"text-align: right;\">\n",
       "      <th></th>\n",
       "      <th>Rank</th>\n",
       "    </tr>\n",
       "  </thead>\n",
       "  <tbody>\n",
       "    <tr>\n",
       "      <th>0</th>\n",
       "      <td>1</td>\n",
       "    </tr>\n",
       "    <tr>\n",
       "      <th>1</th>\n",
       "      <td>2</td>\n",
       "    </tr>\n",
       "    <tr>\n",
       "      <th>2</th>\n",
       "      <td>3</td>\n",
       "    </tr>\n",
       "    <tr>\n",
       "      <th>3</th>\n",
       "      <td>4</td>\n",
       "    </tr>\n",
       "    <tr>\n",
       "      <th>4</th>\n",
       "      <td>5</td>\n",
       "    </tr>\n",
       "    <tr>\n",
       "      <th>...</th>\n",
       "      <td>...</td>\n",
       "    </tr>\n",
       "    <tr>\n",
       "      <th>95</th>\n",
       "      <td>96</td>\n",
       "    </tr>\n",
       "    <tr>\n",
       "      <th>96</th>\n",
       "      <td>97</td>\n",
       "    </tr>\n",
       "    <tr>\n",
       "      <th>97</th>\n",
       "      <td>98</td>\n",
       "    </tr>\n",
       "    <tr>\n",
       "      <th>98</th>\n",
       "      <td>99</td>\n",
       "    </tr>\n",
       "    <tr>\n",
       "      <th>99</th>\n",
       "      <td>100</td>\n",
       "    </tr>\n",
       "  </tbody>\n",
       "</table>\n",
       "<p>100 rows × 1 columns</p>\n",
       "</div>"
      ],
      "text/plain": [
       "    Rank\n",
       "0      1\n",
       "1      2\n",
       "2      3\n",
       "3      4\n",
       "4      5\n",
       "..   ...\n",
       "95    96\n",
       "96    97\n",
       "97    98\n",
       "98    99\n",
       "99   100\n",
       "\n",
       "[100 rows x 1 columns]"
      ]
     },
     "execution_count": 86,
     "metadata": {},
     "output_type": "execute_result"
    }
   ],
   "source": [
    "y1 = pd.read_csv('rank.csv')\n",
    "y1"
   ]
  },
  {
   "cell_type": "code",
   "execution_count": 87,
   "metadata": {},
   "outputs": [
    {
     "data": {
      "text/plain": [
       "(100, 1)"
      ]
     },
     "execution_count": 87,
     "metadata": {},
     "output_type": "execute_result"
    }
   ],
   "source": [
    "y1.shape"
   ]
  },
  {
   "cell_type": "code",
   "execution_count": 88,
   "metadata": {},
   "outputs": [
    {
     "data": {
      "text/plain": [
       "pandas.core.frame.DataFrame"
      ]
     },
     "execution_count": 88,
     "metadata": {},
     "output_type": "execute_result"
    }
   ],
   "source": [
    "type(y1)"
   ]
  },
  {
   "cell_type": "code",
   "execution_count": 89,
   "metadata": {},
   "outputs": [
    {
     "data": {
      "text/html": [
       "<div>\n",
       "<style scoped>\n",
       "    .dataframe tbody tr th:only-of-type {\n",
       "        vertical-align: middle;\n",
       "    }\n",
       "\n",
       "    .dataframe tbody tr th {\n",
       "        vertical-align: top;\n",
       "    }\n",
       "\n",
       "    .dataframe thead th {\n",
       "        text-align: right;\n",
       "    }\n",
       "</style>\n",
       "<table border=\"1\" class=\"dataframe\">\n",
       "  <thead>\n",
       "    <tr style=\"text-align: right;\">\n",
       "      <th></th>\n",
       "      <th>Name_of_the_Cryptocurrency</th>\n",
       "      <th>Symbol_of_Cryptocurrency</th>\n",
       "      <th>Price_in_USD</th>\n",
       "      <th>URL</th>\n",
       "    </tr>\n",
       "  </thead>\n",
       "  <tbody>\n",
       "    <tr>\n",
       "      <th>0</th>\n",
       "      <td>Bitcoin</td>\n",
       "      <td>BTC</td>\n",
       "      <td>$57217.27</td>\n",
       "      <td>https://coinmarketcap.com/currencies/bitcoin/</td>\n",
       "    </tr>\n",
       "    <tr>\n",
       "      <th>1</th>\n",
       "      <td>Ethereum</td>\n",
       "      <td>ETH</td>\n",
       "      <td>$4333.06</td>\n",
       "      <td>https://coinmarketcap.com/currencies/ethereum/</td>\n",
       "    </tr>\n",
       "    <tr>\n",
       "      <th>2</th>\n",
       "      <td>Binance Coin</td>\n",
       "      <td>BNB</td>\n",
       "      <td>$675.29</td>\n",
       "      <td>https://coinmarketcap.com/currencies/binance-c...</td>\n",
       "    </tr>\n",
       "    <tr>\n",
       "      <th>3</th>\n",
       "      <td>Dogecoin</td>\n",
       "      <td>DOGE</td>\n",
       "      <td>$0.4972</td>\n",
       "      <td>https://coinmarketcap.com/currencies/dogecoin/</td>\n",
       "    </tr>\n",
       "    <tr>\n",
       "      <th>4</th>\n",
       "      <td>Cardano</td>\n",
       "      <td>ADA</td>\n",
       "      <td>$1.79</td>\n",
       "      <td>https://coinmarketcap.com/currencies/cardano/</td>\n",
       "    </tr>\n",
       "    <tr>\n",
       "      <th>...</th>\n",
       "      <td>...</td>\n",
       "      <td>...</td>\n",
       "      <td>...</td>\n",
       "      <td>...</td>\n",
       "    </tr>\n",
       "    <tr>\n",
       "      <th>95</th>\n",
       "      <td>Lisk</td>\n",
       "      <td>LSK</td>\n",
       "      <td>$385.54</td>\n",
       "      <td>https://coinmarketcap.com/currencies/litecoin/</td>\n",
       "    </tr>\n",
       "    <tr>\n",
       "      <th>96</th>\n",
       "      <td>TrueUSD</td>\n",
       "      <td>TUSD</td>\n",
       "      <td>$385.54</td>\n",
       "      <td>https://coinmarketcap.com/currencies/litecoin/</td>\n",
       "    </tr>\n",
       "    <tr>\n",
       "      <th>97</th>\n",
       "      <td>Ankr</td>\n",
       "      <td>ANKR</td>\n",
       "      <td>$385.54</td>\n",
       "      <td>https://coinmarketcap.com/currencies/litecoin/</td>\n",
       "    </tr>\n",
       "    <tr>\n",
       "      <th>98</th>\n",
       "      <td>BakeryToken</td>\n",
       "      <td>BAKE</td>\n",
       "      <td>$385.54</td>\n",
       "      <td>https://coinmarketcap.com/currencies/litecoin/</td>\n",
       "    </tr>\n",
       "    <tr>\n",
       "      <th>99</th>\n",
       "      <td>KuCoin Token</td>\n",
       "      <td>KCS</td>\n",
       "      <td>$385.54</td>\n",
       "      <td>https://coinmarketcap.com/currencies/litecoin/</td>\n",
       "    </tr>\n",
       "  </tbody>\n",
       "</table>\n",
       "<p>100 rows × 4 columns</p>\n",
       "</div>"
      ],
      "text/plain": [
       "   Name_of_the_Cryptocurrency Symbol_of_Cryptocurrency Price_in_USD  \\\n",
       "0                     Bitcoin                      BTC    $57217.27   \n",
       "1                    Ethereum                      ETH     $4333.06   \n",
       "2                Binance Coin                      BNB      $675.29   \n",
       "3                    Dogecoin                     DOGE      $0.4972   \n",
       "4                     Cardano                      ADA        $1.79   \n",
       "..                        ...                      ...          ...   \n",
       "95                       Lisk                      LSK      $385.54   \n",
       "96                    TrueUSD                     TUSD      $385.54   \n",
       "97                       Ankr                     ANKR      $385.54   \n",
       "98                BakeryToken                     BAKE      $385.54   \n",
       "99               KuCoin Token                      KCS      $385.54   \n",
       "\n",
       "                                                  URL  \n",
       "0       https://coinmarketcap.com/currencies/bitcoin/  \n",
       "1      https://coinmarketcap.com/currencies/ethereum/  \n",
       "2   https://coinmarketcap.com/currencies/binance-c...  \n",
       "3      https://coinmarketcap.com/currencies/dogecoin/  \n",
       "4       https://coinmarketcap.com/currencies/cardano/  \n",
       "..                                                ...  \n",
       "95     https://coinmarketcap.com/currencies/litecoin/  \n",
       "96     https://coinmarketcap.com/currencies/litecoin/  \n",
       "97     https://coinmarketcap.com/currencies/litecoin/  \n",
       "98     https://coinmarketcap.com/currencies/litecoin/  \n",
       "99     https://coinmarketcap.com/currencies/litecoin/  \n",
       "\n",
       "[100 rows x 4 columns]"
      ]
     },
     "execution_count": 89,
     "metadata": {},
     "output_type": "execute_result"
    }
   ],
   "source": [
    "y2 = pd.read_csv('top_100_cryptocurrenices.csv')\n",
    "y2"
   ]
  },
  {
   "cell_type": "markdown",
   "metadata": {},
   "source": [
    "# Part 5 -  Merging two CSV files using `pd.DataFrame.join`\n",
    "\n",
    "> Merging two dataframes column wise into one dataframe"
   ]
  },
  {
   "cell_type": "code",
   "execution_count": 90,
   "metadata": {},
   "outputs": [
    {
     "data": {
      "text/html": [
       "<div>\n",
       "<style scoped>\n",
       "    .dataframe tbody tr th:only-of-type {\n",
       "        vertical-align: middle;\n",
       "    }\n",
       "\n",
       "    .dataframe tbody tr th {\n",
       "        vertical-align: top;\n",
       "    }\n",
       "\n",
       "    .dataframe thead th {\n",
       "        text-align: right;\n",
       "    }\n",
       "</style>\n",
       "<table border=\"1\" class=\"dataframe\">\n",
       "  <thead>\n",
       "    <tr style=\"text-align: right;\">\n",
       "      <th></th>\n",
       "      <th>Rank</th>\n",
       "      <th>Name_of_the_Cryptocurrency</th>\n",
       "      <th>Symbol_of_Cryptocurrency</th>\n",
       "      <th>Price_in_USD</th>\n",
       "      <th>URL</th>\n",
       "    </tr>\n",
       "  </thead>\n",
       "  <tbody>\n",
       "    <tr>\n",
       "      <th>0</th>\n",
       "      <td>1</td>\n",
       "      <td>Bitcoin</td>\n",
       "      <td>BTC</td>\n",
       "      <td>$57217.27</td>\n",
       "      <td>https://coinmarketcap.com/currencies/bitcoin/</td>\n",
       "    </tr>\n",
       "    <tr>\n",
       "      <th>1</th>\n",
       "      <td>2</td>\n",
       "      <td>Ethereum</td>\n",
       "      <td>ETH</td>\n",
       "      <td>$4333.06</td>\n",
       "      <td>https://coinmarketcap.com/currencies/ethereum/</td>\n",
       "    </tr>\n",
       "    <tr>\n",
       "      <th>2</th>\n",
       "      <td>3</td>\n",
       "      <td>Binance Coin</td>\n",
       "      <td>BNB</td>\n",
       "      <td>$675.29</td>\n",
       "      <td>https://coinmarketcap.com/currencies/binance-c...</td>\n",
       "    </tr>\n",
       "    <tr>\n",
       "      <th>3</th>\n",
       "      <td>4</td>\n",
       "      <td>Dogecoin</td>\n",
       "      <td>DOGE</td>\n",
       "      <td>$0.4972</td>\n",
       "      <td>https://coinmarketcap.com/currencies/dogecoin/</td>\n",
       "    </tr>\n",
       "    <tr>\n",
       "      <th>4</th>\n",
       "      <td>5</td>\n",
       "      <td>Cardano</td>\n",
       "      <td>ADA</td>\n",
       "      <td>$1.79</td>\n",
       "      <td>https://coinmarketcap.com/currencies/cardano/</td>\n",
       "    </tr>\n",
       "    <tr>\n",
       "      <th>...</th>\n",
       "      <td>...</td>\n",
       "      <td>...</td>\n",
       "      <td>...</td>\n",
       "      <td>...</td>\n",
       "      <td>...</td>\n",
       "    </tr>\n",
       "    <tr>\n",
       "      <th>95</th>\n",
       "      <td>96</td>\n",
       "      <td>Lisk</td>\n",
       "      <td>LSK</td>\n",
       "      <td>$385.54</td>\n",
       "      <td>https://coinmarketcap.com/currencies/litecoin/</td>\n",
       "    </tr>\n",
       "    <tr>\n",
       "      <th>96</th>\n",
       "      <td>97</td>\n",
       "      <td>TrueUSD</td>\n",
       "      <td>TUSD</td>\n",
       "      <td>$385.54</td>\n",
       "      <td>https://coinmarketcap.com/currencies/litecoin/</td>\n",
       "    </tr>\n",
       "    <tr>\n",
       "      <th>97</th>\n",
       "      <td>98</td>\n",
       "      <td>Ankr</td>\n",
       "      <td>ANKR</td>\n",
       "      <td>$385.54</td>\n",
       "      <td>https://coinmarketcap.com/currencies/litecoin/</td>\n",
       "    </tr>\n",
       "    <tr>\n",
       "      <th>98</th>\n",
       "      <td>99</td>\n",
       "      <td>BakeryToken</td>\n",
       "      <td>BAKE</td>\n",
       "      <td>$385.54</td>\n",
       "      <td>https://coinmarketcap.com/currencies/litecoin/</td>\n",
       "    </tr>\n",
       "    <tr>\n",
       "      <th>99</th>\n",
       "      <td>100</td>\n",
       "      <td>KuCoin Token</td>\n",
       "      <td>KCS</td>\n",
       "      <td>$385.54</td>\n",
       "      <td>https://coinmarketcap.com/currencies/litecoin/</td>\n",
       "    </tr>\n",
       "  </tbody>\n",
       "</table>\n",
       "<p>100 rows × 5 columns</p>\n",
       "</div>"
      ],
      "text/plain": [
       "    Rank Name_of_the_Cryptocurrency Symbol_of_Cryptocurrency Price_in_USD  \\\n",
       "0      1                    Bitcoin                      BTC    $57217.27   \n",
       "1      2                   Ethereum                      ETH     $4333.06   \n",
       "2      3               Binance Coin                      BNB      $675.29   \n",
       "3      4                   Dogecoin                     DOGE      $0.4972   \n",
       "4      5                    Cardano                      ADA        $1.79   \n",
       "..   ...                        ...                      ...          ...   \n",
       "95    96                       Lisk                      LSK      $385.54   \n",
       "96    97                    TrueUSD                     TUSD      $385.54   \n",
       "97    98                       Ankr                     ANKR      $385.54   \n",
       "98    99                BakeryToken                     BAKE      $385.54   \n",
       "99   100               KuCoin Token                      KCS      $385.54   \n",
       "\n",
       "                                                  URL  \n",
       "0       https://coinmarketcap.com/currencies/bitcoin/  \n",
       "1      https://coinmarketcap.com/currencies/ethereum/  \n",
       "2   https://coinmarketcap.com/currencies/binance-c...  \n",
       "3      https://coinmarketcap.com/currencies/dogecoin/  \n",
       "4       https://coinmarketcap.com/currencies/cardano/  \n",
       "..                                                ...  \n",
       "95     https://coinmarketcap.com/currencies/litecoin/  \n",
       "96     https://coinmarketcap.com/currencies/litecoin/  \n",
       "97     https://coinmarketcap.com/currencies/litecoin/  \n",
       "98     https://coinmarketcap.com/currencies/litecoin/  \n",
       "99     https://coinmarketcap.com/currencies/litecoin/  \n",
       "\n",
       "[100 rows x 5 columns]"
      ]
     },
     "execution_count": 90,
     "metadata": {},
     "output_type": "execute_result"
    }
   ],
   "source": [
    "Top_100_Cryptocurrencies_with_rank= pd.DataFrame.join(y1, y2)\n",
    "Top_100_Cryptocurrencies_with_rank"
   ]
  },
  {
   "cell_type": "code",
   "execution_count": 91,
   "metadata": {},
   "outputs": [
    {
     "data": {
      "text/plain": [
       "pandas.core.frame.DataFrame"
      ]
     },
     "execution_count": 91,
     "metadata": {},
     "output_type": "execute_result"
    }
   ],
   "source": [
    "type(Top_100_Cryptocurrencies_with_rank)"
   ]
  },
  {
   "cell_type": "markdown",
   "metadata": {},
   "source": [
    "## Writing the final output into the .csv file using `DataFrame.to_csv` function\n",
    "\n",
    "The resultant .csv file will have index column starts from 0 which might be conflicting with rank starting from 1 while referring to the Cryptocurrencies's ranks.\n",
    "\n",
    "Ignoring the index, by using the argument `index=False`"
   ]
  },
  {
   "cell_type": "code",
   "execution_count": 92,
   "metadata": {},
   "outputs": [],
   "source": [
    "Top_100_Cryptocurrencies_with_rank.to_csv('Top_100_Cryptocurrencies_with_rank.csv', index=False)"
   ]
  },
  {
   "cell_type": "markdown",
   "metadata": {},
   "source": [
    "---"
   ]
  },
  {
   "cell_type": "markdown",
   "metadata": {},
   "source": [
    "# Part 6 -  Functions for end users that scraps one page"
   ]
  },
  {
   "cell_type": "code",
   "execution_count": 93,
   "metadata": {},
   "outputs": [],
   "source": [
    "#import\n",
    "!pip install requests --upgrade --quiet\n",
    "import requests\n",
    "from bs4 import BeautifulSoup\n",
    "import pandas as pd\n",
    "\n",
    "def final_output(topic, page_number = 1):    \n",
    "    doc = get_topic_page1(topic, page_number)\n",
    "    tr_tags = doc.tbody.find_all('tr')\n",
    "    top_100_cryptocurrenices = [complete_cryptocurrencies_list1(tr_tags[i], doc) for i in range(100)]\n",
    "    write_csv1(top_100_cryptocurrenices, 'top_100_cryptocurrenices.csv')\n",
    "    rank_number = rank_list(page_number)  \n",
    "    y1 = pd.read_csv('rank.csv')\n",
    "    y2 = pd.read_csv('top_100_cryptocurrenices.csv')\n",
    "    Final_Output= pd.DataFrame.join(y1, y2)\n",
    "    print('The global cryptocurrenices ranking from', rank_number[0], 'to', rank_number[99], '\\n\\n' ,Final_Output)\n",
    "    print('The output file is stored as Final_Output.csv')\n",
    "    return Final_Output.to_csv('Final_Output.csv', index=False)\n",
    "\n",
    "\n",
    "def get_topic_page1(topic, page):\n",
    "    topic_with_page= topic + '/?page=' + str(page)\n",
    "    response = requests.get(topic_with_page)\n",
    "    with open('Cryptocurrency_test.html', 'w') as f:\n",
    "        f.write(response.text)\n",
    "    if not response.ok:\n",
    "        print('Status code:', response.status_code)\n",
    "        raise Exception('Failed to fetch web page' + topic)\n",
    "    return BeautifulSoup(response.text)\n",
    "\n",
    "\n",
    "def complete_cryptocurrencies_list1(tr_tag, document):\n",
    "    \n",
    "    tr_tags = document.tbody.find_all('tr')\n",
    "    base_url = 'https://coinmarketcap.com'\n",
    "    td_tags = tr_tag.find_all('td')\n",
    "    if tr_tags.index(tr_tag)<10:\n",
    "        td_tag=td_tags[2]\n",
    "        div_in_td = td_tag.find_all('div', class_='sc-16r8icm-0 sc-1teo54s-1 lgwUsc') \n",
    "        name2 = div_in_td[0].find_all('p', class_='sc-1eb5slv-0 iJjGCS')\n",
    "        name = name2[0].text\n",
    "        symbol2 = div_in_td[0].find_all('p', class_='sc-1eb5slv-0 gGIpIK coin-item-symbol')\n",
    "        symbol= symbol2[0].text\n",
    "        price_in_USD1 = td_tags[3].text\n",
    "        price_in_USD = price_in_USD1.replace(',','')\n",
    "        url_Cryptocurrency = td_tag.a['href'].strip()\n",
    "        URL = base_url + url_Cryptocurrency\n",
    "    else:\n",
    "        span=td_tags[2].a.find_all('span')\n",
    "        name = span[1].text\n",
    "        symbol= span[2].text\n",
    "        price_in_USD1 = td_tags[3].text\n",
    "        price_in_USD = price_in_USD1.replace(',','')\n",
    "        url_Cryptocurrency = td_tags[2].a['href'].strip()\n",
    "        URL = base_url + url_Cryptocurrency\n",
    "    return{\n",
    "    'Name' : name,\n",
    "    'Symbol': symbol, \n",
    "    'Price_in_USD' : price_in_USD,\n",
    "    'URL':URL\n",
    "        }\n",
    "\n",
    "def rank_list(page_number):\n",
    "    with open('rank.csv', 'w') as f:\n",
    "        f.write('Rank' + '\\n')\n",
    "        if page_number == 0: \n",
    "            page_number = 1\n",
    "        rank_range = [(((page_number-1)*100)+i) for i in range(1,101)]\n",
    "        for rank_number in rank_range:\n",
    "            f.write(str(rank_number) + '\\n')\n",
    "    return rank_range\n",
    "        \n",
    "def write_csv1(items, path):\n",
    "    \"\"\"Write a list of dictionaries to a CSV file\"\"\"\n",
    "    with open(path, 'w') as f:\n",
    "        if len(items) == 0:\n",
    "            return\n",
    "        headers = list(items[0].keys())\n",
    "        f.write(','.join(headers) + '\\n')\n",
    "        for item in items:\n",
    "            values = []\n",
    "            for header in headers:\n",
    "                values.append(str(item.get(header, \"\")))\n",
    "            f.write(','.join(values) + \"\\n\")"
   ]
  },
  {
   "cell_type": "markdown",
   "metadata": {},
   "source": [
    "Function that will scrap the list of 100 cryptocurreny of any page from [https://coinmarketcap.com/](https://coinmarketcap.com/)\n",
    "\n",
    "The output will be stored in the `.csv` file format named as ***`'Final_Output'`***\n",
    "\n",
    "> __`final_output(topic, page_number = 1)`__ is the end user function of this project.\n",
    "\n",
    "\n",
    "The default page number wil be 1, if nothing is passed as arugument for `page_number` into the function.`\n",
    "\n",
    "`page_number` is optional, if the top 100 cryptocurrencies or page `1` needs to scrapped "
   ]
  },
  {
   "cell_type": "markdown",
   "metadata": {},
   "source": [
    "#### Scrappng `first 100` global Cryptocurrencies based on their `Market Cap` or `page 1` from [https://coinmarketcap.com/](https://coinmarketcap.com/)"
   ]
  },
  {
   "cell_type": "code",
   "execution_count": 94,
   "metadata": {},
   "outputs": [
    {
     "name": "stdout",
     "output_type": "stream",
     "text": [
      "The global cryptocurrenices ranking from 1 to 100 \n",
      "\n",
      "     Rank          Name Symbol Price_in_USD  \\\n",
      "0      1       Bitcoin    BTC    $57242.57   \n",
      "1      2      Ethereum    ETH     $4321.80   \n",
      "2      3  Binance Coin    BNB      $674.11   \n",
      "3      4      Dogecoin   DOGE      $0.4985   \n",
      "4      5        Tether   USDT      $0.9999   \n",
      "..   ...           ...    ...          ...   \n",
      "95    96          Celo   CELO        $5.20   \n",
      "96    97          Lisk    LSK        $8.82   \n",
      "97    98       TrueUSD   TUSD        $1.00   \n",
      "98    99          Ankr   ANKR        $0.16   \n",
      "99   100   BakeryToken   BAKE        $5.87   \n",
      "\n",
      "                                                  URL  \n",
      "0       https://coinmarketcap.com/currencies/bitcoin/  \n",
      "1      https://coinmarketcap.com/currencies/ethereum/  \n",
      "2   https://coinmarketcap.com/currencies/binance-c...  \n",
      "3      https://coinmarketcap.com/currencies/dogecoin/  \n",
      "4        https://coinmarketcap.com/currencies/tether/  \n",
      "..                                                ...  \n",
      "95         https://coinmarketcap.com/currencies/celo/  \n",
      "96         https://coinmarketcap.com/currencies/lisk/  \n",
      "97      https://coinmarketcap.com/currencies/trueusd/  \n",
      "98         https://coinmarketcap.com/currencies/ankr/  \n",
      "99  https://coinmarketcap.com/currencies/bakerytoken/  \n",
      "\n",
      "[100 rows x 5 columns]\n",
      "The output file is stored as Final_Output.csv\n"
     ]
    }
   ],
   "source": [
    "topic= 'https://coinmarketcap.com/'\n",
    "final_output(topic)"
   ]
  },
  {
   "cell_type": "markdown",
   "metadata": {},
   "source": [
    "Scrappng `page 36` from https://coinmarketcap.com/ and getting a list of 100 Cryptocurrenies of that respective page"
   ]
  },
  {
   "cell_type": "code",
   "execution_count": 95,
   "metadata": {},
   "outputs": [
    {
     "name": "stdout",
     "output_type": "stream",
     "text": [
      "The global cryptocurrenices ranking from 3501 to 3600 \n",
      "\n",
      "     Rank                        Name    Symbol Price_in_USD  \\\n",
      "0   3501                   MeconCash       MCH      $0.1045   \n",
      "1   3502      Global Digital Content       GDC    $0.008576   \n",
      "2   3503   Oracle Top 5 Tokens Index     ORCL5       $22.17   \n",
      "3   3504                Counterparty       XCP        $2.79   \n",
      "4   3505  3X Long Midcap Index Token   MIDBULL    $17330.00   \n",
      "..   ...                         ...       ...          ...   \n",
      "95  3596  3X Long BitMax Token Token  BTMXBULL       $18.70   \n",
      "96  3597                   ziot Coin      ZIOT        $0.18   \n",
      "97  3598        B Non-Fungible Yearn      BNFY       $14.64   \n",
      "98  3599                Sage Finance      SAFT        $0.03   \n",
      "99  3600           3X Long OKB Token   OKBBULL     $4567.00   \n",
      "\n",
      "                                                  URL  \n",
      "0     https://coinmarketcap.com/currencies/meconcash/  \n",
      "1   https://coinmarketcap.com/currencies/global-di...  \n",
      "2   https://coinmarketcap.com/currencies/oracle-to...  \n",
      "3   https://coinmarketcap.com/currencies/counterpa...  \n",
      "4   https://coinmarketcap.com/currencies/3x-long-m...  \n",
      "..                                                ...  \n",
      "95  https://coinmarketcap.com/currencies/3x-long-b...  \n",
      "96    https://coinmarketcap.com/currencies/ziot-coin/  \n",
      "97  https://coinmarketcap.com/currencies/b-non-fun...  \n",
      "98  https://coinmarketcap.com/currencies/sage-fina...  \n",
      "99  https://coinmarketcap.com/currencies/3x-long-o...  \n",
      "\n",
      "[100 rows x 5 columns]\n",
      "The output file is stored as Final_Output.csv\n"
     ]
    }
   ],
   "source": [
    "topic= 'https://coinmarketcap.com/'\n",
    "final_output(topic, 36)"
   ]
  },
  {
   "cell_type": "markdown",
   "metadata": {},
   "source": [
    "## Additional Function for end users that scraps two continuous pages and give list of 200 cryptocurrenices"
   ]
  },
  {
   "cell_type": "code",
   "execution_count": 96,
   "metadata": {},
   "outputs": [],
   "source": [
    "!pip install requests --upgrade --quiet\n",
    "import requests\n",
    "from bs4 import BeautifulSoup\n",
    "import pandas as pd\n",
    "\n",
    "def final_output_two_pages(page_number=1): \n",
    "    topic= 'https://coinmarketcap.com/'\n",
    "    output_first_page = final_output(topic,page_number)\n",
    "    df1 = pd.read_csv('Final_Output.csv')\n",
    "    page_two = page_number + 1\n",
    "    output_second_page = final_output(topic,page_two)\n",
    "    df2 = pd.read_csv('Final_Output.csv')\n",
    "    two_pages = df1.append(df2, ignore_index=True)\n",
    "    rank_number = rank_list(page_number)\n",
    "    print('The global cryptocurrenices ranking from', rank_number[0], 'to', rank_number[99]+100, '\\n\\n' ,two_pages)\n",
    "    print('The output file is stored as Final_Output_two_pages.csv')\n",
    "    return two_pages.to_csv('Final_Output_two_pages.csv', index=False)\n",
    "\n",
    "def final_output(topic, page_number = 1):    \n",
    "    doc = get_topic_page1(topic, page_number)\n",
    "    tr_tags = doc.tbody.find_all('tr')\n",
    "    top_100_cryptocurrenices = [complete_cryptocurrencies_list1(tr_tags[i], doc) for i in range(100)]\n",
    "    write_csv1(top_100_cryptocurrenices, 'top_100_cryptocurrenices.csv')\n",
    "    rank_number = rank_list(page_number)\n",
    "    y1 = pd.read_csv('rank.csv')\n",
    "    y2 = pd.read_csv('top_100_cryptocurrenices.csv')\n",
    "    Final_Output= pd.DataFrame.join(y1, y2)\n",
    "    return Final_Output.to_csv('Final_Output.csv', index=False)\n",
    "\n",
    "\n",
    "def get_topic_page1(topic, page):\n",
    "    topic_with_page= topic + '/?page=' + str(page)\n",
    "    response = requests.get(topic_with_page)\n",
    "    with open('Cryptocurrency_test.html', 'w') as f:\n",
    "        f.write(response.text)\n",
    "    if not response.ok:\n",
    "        print('Status code:', response.status_code)\n",
    "        raise Exception('Failed to fetch web page' + topic)\n",
    "    return BeautifulSoup(response.text)\n",
    "\n",
    "\n",
    "def complete_cryptocurrencies_list1(tr_tag, document):\n",
    "    \n",
    "    tr_tags = document.tbody.find_all('tr')\n",
    "    base_url = 'https://coinmarketcap.com'\n",
    "    td_tags = tr_tag.find_all('td')\n",
    "    if tr_tags.index(tr_tag)<10:\n",
    "        td_tag=td_tags[2]\n",
    "        div_in_td = td_tag.find_all('div', class_='sc-16r8icm-0 sc-1teo54s-1 lgwUsc') \n",
    "        name2 = div_in_td[0].find_all('p', class_='sc-1eb5slv-0 iJjGCS')\n",
    "        name = name2[0].text\n",
    "        symbol2 = div_in_td[0].find_all('p', class_='sc-1eb5slv-0 gGIpIK coin-item-symbol')\n",
    "        symbol= symbol2[0].text\n",
    "        price_in_USD1 = td_tags[3].text\n",
    "        price_in_USD = price_in_USD1.replace(',','')\n",
    "        url_Cryptocurrency = td_tag.a['href'].strip()\n",
    "        URL = base_url + url_Cryptocurrency\n",
    "    else:\n",
    "        span=td_tags[2].a.find_all('span')\n",
    "        name = span[1].text\n",
    "        symbol= span[2].text\n",
    "        price_in_USD1 = td_tags[3].text\n",
    "        price_in_USD = price_in_USD1.replace(',','')\n",
    "        url_Cryptocurrency = td_tags[2].a['href'].strip()\n",
    "        URL = base_url + url_Cryptocurrency\n",
    "    return{\n",
    "    'Name' : name,\n",
    "    'Symbol': symbol, \n",
    "    'Price_in_USD' : price_in_USD,\n",
    "    'URL':URL\n",
    "        }\n",
    "\n",
    "def rank_list(page_number):\n",
    "    with open('rank.csv', 'w') as f:\n",
    "        f.write('Rank' + '\\n')\n",
    "        if page_number == 0: \n",
    "            page_number = 1\n",
    "        rank_range = [(((page_number-1)*100)+i) for i in range(1,101)]\n",
    "        for rank_number in rank_range:\n",
    "            f.write(str(rank_number) + '\\n')\n",
    "    return rank_range\n",
    "        \n",
    "def write_csv1(items, path):\n",
    "    \"\"\"Write a list of dictionaries to a CSV file\"\"\"\n",
    "    with open(path, 'w') as f:\n",
    "        if len(items) == 0:\n",
    "            return\n",
    "        headers = list(items[0].keys())\n",
    "        f.write(','.join(headers) + '\\n')\n",
    "        for item in items:\n",
    "            values = []\n",
    "            for header in headers:\n",
    "                values.append(str(item.get(header, \"\")))\n",
    "            f.write(','.join(values) + \"\\n\")"
   ]
  },
  {
   "cell_type": "markdown",
   "metadata": {},
   "source": [
    "Scrapping two continuous pages, `page 1` and `page 2` of [https://coinmarketcap.com/](https://coinmarketcap.com/)"
   ]
  },
  {
   "cell_type": "code",
   "execution_count": 97,
   "metadata": {},
   "outputs": [
    {
     "name": "stdout",
     "output_type": "stream",
     "text": [
      "The global cryptocurrenices ranking from 1 to 200 \n",
      "\n",
      "      Rank          Name Symbol Price_in_USD  \\\n",
      "0       1       Bitcoin    BTC    $57242.57   \n",
      "1       2      Ethereum    ETH     $4321.80   \n",
      "2       3  Binance Coin    BNB      $674.11   \n",
      "3       4      Dogecoin   DOGE      $0.4985   \n",
      "4       5        Tether   USDT      $0.9999   \n",
      "..    ...           ...    ...          ...   \n",
      "195   196      Syntropy   NOIA        $0.68   \n",
      "196   197          COTI   COTI        $0.37   \n",
      "197   198          aelf    ELF        $0.44   \n",
      "198   199          Sora    XOR      $680.72   \n",
      "199   200          Aion   AION        $0.48   \n",
      "\n",
      "                                                   URL  \n",
      "0        https://coinmarketcap.com/currencies/bitcoin/  \n",
      "1       https://coinmarketcap.com/currencies/ethereum/  \n",
      "2    https://coinmarketcap.com/currencies/binance-c...  \n",
      "3       https://coinmarketcap.com/currencies/dogecoin/  \n",
      "4         https://coinmarketcap.com/currencies/tether/  \n",
      "..                                                 ...  \n",
      "195     https://coinmarketcap.com/currencies/syntropy/  \n",
      "196         https://coinmarketcap.com/currencies/coti/  \n",
      "197         https://coinmarketcap.com/currencies/aelf/  \n",
      "198         https://coinmarketcap.com/currencies/sora/  \n",
      "199         https://coinmarketcap.com/currencies/aion/  \n",
      "\n",
      "[200 rows x 5 columns]\n",
      "The output file is stored as Final_Output_two_pages.csv\n"
     ]
    }
   ],
   "source": [
    "final_output_two_pages(1)"
   ]
  },
  {
   "cell_type": "markdown",
   "metadata": {},
   "source": [
    "### Summary\n",
    "\n",
    "#### The project scraps list of 100 cryptocurrencies of any page from [CoinMarketCap](https://coinmarketcap.com/) and provides details like `Rank`, `Name`, `Symbol` and `Price in USD`.\n",
    "\n",
    "#### The project also has an additional function thats scraps list of `200 cryptocurrencies of any two continuous pages` from [CoinMarketCap](https://coinmarketcap.com/) and provides details like `Rank`, `Name`, `Symbol` and `Price in USD`."
   ]
  },
  {
   "cell_type": "markdown",
   "metadata": {},
   "source": [
    "### Future work \n",
    "\n",
    "1. Code optimization\n",
    "2. Improving the documentation part of the project\n",
    "3. Adding a time and date stamp at the point when website's page is requested and adding it to the output, as the web page is dynamic and frequently changes values.\n",
    "4.Web Scrapping the website [CoinMarketCap](https://coinmarketcap.com/) using `REST API` as the website provides free API.  [https://coinmarketcap.com/api/faq](https://coinmarketcap.com/api/faq)"
   ]
  },
  {
   "cell_type": "markdown",
   "metadata": {},
   "source": [
    "### References\n",
    "\n",
    "1. [https://coinmarketcap.com/](https://coinmarketcap.com/)\n",
    "2. [https://unsplash.com](https://unsplash.com)\n",
    "3. [https://simple.wikipedia.org/wiki/Cryptocurrency](https://simple.wikipedia.org/wiki/Cryptocurrency)\n",
    "4. [https://en.bitcoinwiki.org/wiki/Cryptocurrency](https://en.bitcoinwiki.org/wiki/Cryptocurrency)\n",
    "5. [https://i.imgur.com](https://i.imgur.com)\n",
    "6. [https://www.octoparse.com/](https://www.octoparse.com/)\n",
    "7. [http://prowebscraping.com/](http://prowebscraping.com/)\n"
   ]
  },
  {
   "cell_type": "markdown",
   "metadata": {},
   "source": [
    "### Open for suggestions and feedbacks?\n",
    "\n",
    "## Thank you!"
   ]
  },
  {
   "cell_type": "code",
   "execution_count": 99,
   "metadata": {},
   "outputs": [
    {
     "data": {
      "application/javascript": [
       "window.require && require([\"base/js/namespace\"],function(Jupyter){Jupyter.notebook.save_checkpoint()})"
      ],
      "text/plain": [
       "<IPython.core.display.Javascript object>"
      ]
     },
     "metadata": {},
     "output_type": "display_data"
    },
    {
     "name": "stdout",
     "output_type": "stream",
     "text": [
      "[jovian] Attempting to save notebook..\u001b[0m\n",
      "[jovian] Updating notebook \"shaswathpatil7/project-web-scraping-v1\" on https://jovian.ai\u001b[0m\n",
      "[jovian] Uploading notebook..\u001b[0m\n",
      "[jovian] Uploading additional files...\u001b[0m\n"
     ]
    },
    {
     "name": "stderr",
     "output_type": "stream",
     "text": [
      "\u001b[31m[jovian] Error: Looks like the notebook is missing output cells, please save the notebook and try jovian.commit again.\u001b[0m\n"
     ]
    },
    {
     "name": "stdout",
     "output_type": "stream",
     "text": [
      "[jovian] Committed successfully! https://jovian.ai/shaswathpatil7/project-web-scraping-v1\u001b[0m\n",
      "[jovian] Submitting assignment..\u001b[0m\n",
      "[jovian] Verify your submission at https://jovian.ai/learn/zero-to-data-analyst-bootcamp/assignment/project-1-web-scraping-with-python\u001b[0m\n"
     ]
    }
   ],
   "source": [
    "jovian.submit(assignment=\"zerotoanalyst-project1\")"
   ]
  }
 ],
 "metadata": {
  "kernelspec": {
   "display_name": "Python 3",
   "language": "python",
   "name": "python3"
  },
  "language_info": {
   "codemirror_mode": {
    "name": "ipython",
    "version": 3
   },
   "file_extension": ".py",
   "mimetype": "text/x-python",
   "name": "python",
   "nbconvert_exporter": "python",
   "pygments_lexer": "ipython3",
   "version": "3.8.6"
  }
 },
 "nbformat": 4,
 "nbformat_minor": 2
}
